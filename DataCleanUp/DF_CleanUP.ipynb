{
 "cells": [
  {
   "cell_type": "markdown",
   "metadata": {},
   "source": [
    "# Data Clean Up"
   ]
  },
  {
   "cell_type": "code",
   "execution_count": 1,
   "metadata": {},
   "outputs": [],
   "source": [
    "# Dependencies\n",
    "import pandas as pd\n",
    "import numpy as np"
   ]
  },
  {
   "cell_type": "markdown",
   "metadata": {},
   "source": [
    "## Athlete data\n"
   ]
  },
  {
   "cell_type": "code",
   "execution_count": 2,
   "metadata": {
    "tags": []
   },
   "outputs": [
    {
     "output_type": "execute_result",
     "data": {
      "text/plain": "   ID                      Name Sex   Age  Height  Weight            Team  \\\n0   1                 A Dijiang   M  24.0   180.0    80.0           China   \n1   2                  A Lamusi   M  23.0   170.0    60.0           China   \n2   3       Gunnar Nielsen Aaby   M  24.0     NaN     NaN         Denmark   \n3   4      Edgar Lindenau Aabye   M  34.0     NaN     NaN  Denmark/Sweden   \n4   5  Christine Jacoba Aaftink   F  21.0   185.0    82.0     Netherlands   \n\n   NOC        Games  Year  Season       City          Sport  \\\n0  CHN  1992 Summer  1992  Summer  Barcelona     Basketball   \n1  CHN  2012 Summer  2012  Summer     London           Judo   \n2  DEN  1920 Summer  1920  Summer  Antwerpen       Football   \n3  DEN  1900 Summer  1900  Summer      Paris     Tug-Of-War   \n4  NED  1988 Winter  1988  Winter    Calgary  Speed Skating   \n\n                              Event Medal  \n0       Basketball Men's Basketball   NaN  \n1      Judo Men's Extra-Lightweight   NaN  \n2           Football Men's Football   NaN  \n3       Tug-Of-War Men's Tug-Of-War  Gold  \n4  Speed Skating Women's 500 metres   NaN  ",
      "text/html": "<div>\n<style scoped>\n    .dataframe tbody tr th:only-of-type {\n        vertical-align: middle;\n    }\n\n    .dataframe tbody tr th {\n        vertical-align: top;\n    }\n\n    .dataframe thead th {\n        text-align: right;\n    }\n</style>\n<table border=\"1\" class=\"dataframe\">\n  <thead>\n    <tr style=\"text-align: right;\">\n      <th></th>\n      <th>ID</th>\n      <th>Name</th>\n      <th>Sex</th>\n      <th>Age</th>\n      <th>Height</th>\n      <th>Weight</th>\n      <th>Team</th>\n      <th>NOC</th>\n      <th>Games</th>\n      <th>Year</th>\n      <th>Season</th>\n      <th>City</th>\n      <th>Sport</th>\n      <th>Event</th>\n      <th>Medal</th>\n    </tr>\n  </thead>\n  <tbody>\n    <tr>\n      <th>0</th>\n      <td>1</td>\n      <td>A Dijiang</td>\n      <td>M</td>\n      <td>24.0</td>\n      <td>180.0</td>\n      <td>80.0</td>\n      <td>China</td>\n      <td>CHN</td>\n      <td>1992 Summer</td>\n      <td>1992</td>\n      <td>Summer</td>\n      <td>Barcelona</td>\n      <td>Basketball</td>\n      <td>Basketball Men's Basketball</td>\n      <td>NaN</td>\n    </tr>\n    <tr>\n      <th>1</th>\n      <td>2</td>\n      <td>A Lamusi</td>\n      <td>M</td>\n      <td>23.0</td>\n      <td>170.0</td>\n      <td>60.0</td>\n      <td>China</td>\n      <td>CHN</td>\n      <td>2012 Summer</td>\n      <td>2012</td>\n      <td>Summer</td>\n      <td>London</td>\n      <td>Judo</td>\n      <td>Judo Men's Extra-Lightweight</td>\n      <td>NaN</td>\n    </tr>\n    <tr>\n      <th>2</th>\n      <td>3</td>\n      <td>Gunnar Nielsen Aaby</td>\n      <td>M</td>\n      <td>24.0</td>\n      <td>NaN</td>\n      <td>NaN</td>\n      <td>Denmark</td>\n      <td>DEN</td>\n      <td>1920 Summer</td>\n      <td>1920</td>\n      <td>Summer</td>\n      <td>Antwerpen</td>\n      <td>Football</td>\n      <td>Football Men's Football</td>\n      <td>NaN</td>\n    </tr>\n    <tr>\n      <th>3</th>\n      <td>4</td>\n      <td>Edgar Lindenau Aabye</td>\n      <td>M</td>\n      <td>34.0</td>\n      <td>NaN</td>\n      <td>NaN</td>\n      <td>Denmark/Sweden</td>\n      <td>DEN</td>\n      <td>1900 Summer</td>\n      <td>1900</td>\n      <td>Summer</td>\n      <td>Paris</td>\n      <td>Tug-Of-War</td>\n      <td>Tug-Of-War Men's Tug-Of-War</td>\n      <td>Gold</td>\n    </tr>\n    <tr>\n      <th>4</th>\n      <td>5</td>\n      <td>Christine Jacoba Aaftink</td>\n      <td>F</td>\n      <td>21.0</td>\n      <td>185.0</td>\n      <td>82.0</td>\n      <td>Netherlands</td>\n      <td>NED</td>\n      <td>1988 Winter</td>\n      <td>1988</td>\n      <td>Winter</td>\n      <td>Calgary</td>\n      <td>Speed Skating</td>\n      <td>Speed Skating Women's 500 metres</td>\n      <td>NaN</td>\n    </tr>\n  </tbody>\n</table>\n</div>"
     },
     "metadata": {},
     "execution_count": 2
    }
   ],
   "source": [
    "# Load and read in AtheleteEvents\n",
    "data_load1 = \"../csv_data/athlete_events.csv\"\n",
    "athelte_data = pd.read_csv(data_load1)\n",
    "athelte_data.head()"
   ]
  },
  {
   "cell_type": "code",
   "execution_count": 3,
   "metadata": {},
   "outputs": [
    {
     "output_type": "execute_result",
     "data": {
      "text/plain": "  Sex            Team  NOC        Games  Year  Season       City  \\\n0   M           China  CHN  1992 Summer  1992  Summer  Barcelona   \n1   M           China  CHN  2012 Summer  2012  Summer     London   \n2   M         Denmark  DEN  1920 Summer  1920  Summer  Antwerpen   \n3   M  Denmark/Sweden  DEN  1900 Summer  1900  Summer      Paris   \n4   F     Netherlands  NED  1988 Winter  1988  Winter    Calgary   \n\n           Sport Medal  \n0     Basketball   NaN  \n1           Judo   NaN  \n2       Football   NaN  \n3     Tug-Of-War  Gold  \n4  Speed Skating   NaN  ",
      "text/html": "<div>\n<style scoped>\n    .dataframe tbody tr th:only-of-type {\n        vertical-align: middle;\n    }\n\n    .dataframe tbody tr th {\n        vertical-align: top;\n    }\n\n    .dataframe thead th {\n        text-align: right;\n    }\n</style>\n<table border=\"1\" class=\"dataframe\">\n  <thead>\n    <tr style=\"text-align: right;\">\n      <th></th>\n      <th>Sex</th>\n      <th>Team</th>\n      <th>NOC</th>\n      <th>Games</th>\n      <th>Year</th>\n      <th>Season</th>\n      <th>City</th>\n      <th>Sport</th>\n      <th>Medal</th>\n    </tr>\n  </thead>\n  <tbody>\n    <tr>\n      <th>0</th>\n      <td>M</td>\n      <td>China</td>\n      <td>CHN</td>\n      <td>1992 Summer</td>\n      <td>1992</td>\n      <td>Summer</td>\n      <td>Barcelona</td>\n      <td>Basketball</td>\n      <td>NaN</td>\n    </tr>\n    <tr>\n      <th>1</th>\n      <td>M</td>\n      <td>China</td>\n      <td>CHN</td>\n      <td>2012 Summer</td>\n      <td>2012</td>\n      <td>Summer</td>\n      <td>London</td>\n      <td>Judo</td>\n      <td>NaN</td>\n    </tr>\n    <tr>\n      <th>2</th>\n      <td>M</td>\n      <td>Denmark</td>\n      <td>DEN</td>\n      <td>1920 Summer</td>\n      <td>1920</td>\n      <td>Summer</td>\n      <td>Antwerpen</td>\n      <td>Football</td>\n      <td>NaN</td>\n    </tr>\n    <tr>\n      <th>3</th>\n      <td>M</td>\n      <td>Denmark/Sweden</td>\n      <td>DEN</td>\n      <td>1900 Summer</td>\n      <td>1900</td>\n      <td>Summer</td>\n      <td>Paris</td>\n      <td>Tug-Of-War</td>\n      <td>Gold</td>\n    </tr>\n    <tr>\n      <th>4</th>\n      <td>F</td>\n      <td>Netherlands</td>\n      <td>NED</td>\n      <td>1988 Winter</td>\n      <td>1988</td>\n      <td>Winter</td>\n      <td>Calgary</td>\n      <td>Speed Skating</td>\n      <td>NaN</td>\n    </tr>\n  </tbody>\n</table>\n</div>"
     },
     "metadata": {},
     "execution_count": 3
    }
   ],
   "source": [
    "# Select desired columns\n",
    "medal_data = pd.DataFrame(athelte_data, columns=['Sex', 'Team', 'NOC', 'Games', 'Year', 'Season', 'City', 'Sport', 'Medal'])\n",
    "medal_data.head()"
   ]
  },
  {
   "cell_type": "code",
   "execution_count": 4,
   "metadata": {},
   "outputs": [
    {
     "output_type": "execute_result",
     "data": {
      "text/plain": "   Sex            Team  NOC        Games  Year  Season       City       Sport  \\\n3    M  Denmark/Sweden  DEN  1900 Summer  1900  Summer      Paris  Tug-Of-War   \n37   M         Finland  FIN  1920 Summer  1920  Summer  Antwerpen    Swimming   \n38   M         Finland  FIN  1920 Summer  1920  Summer  Antwerpen    Swimming   \n40   M         Finland  FIN  2014 Winter  2014  Winter      Sochi  Ice Hockey   \n41   M         Finland  FIN  1948 Summer  1948  Summer     London  Gymnastics   \n\n     Medal  \n3     Gold  \n37  Bronze  \n38  Bronze  \n40  Bronze  \n41  Bronze  ",
      "text/html": "<div>\n<style scoped>\n    .dataframe tbody tr th:only-of-type {\n        vertical-align: middle;\n    }\n\n    .dataframe tbody tr th {\n        vertical-align: top;\n    }\n\n    .dataframe thead th {\n        text-align: right;\n    }\n</style>\n<table border=\"1\" class=\"dataframe\">\n  <thead>\n    <tr style=\"text-align: right;\">\n      <th></th>\n      <th>Sex</th>\n      <th>Team</th>\n      <th>NOC</th>\n      <th>Games</th>\n      <th>Year</th>\n      <th>Season</th>\n      <th>City</th>\n      <th>Sport</th>\n      <th>Medal</th>\n    </tr>\n  </thead>\n  <tbody>\n    <tr>\n      <th>3</th>\n      <td>M</td>\n      <td>Denmark/Sweden</td>\n      <td>DEN</td>\n      <td>1900 Summer</td>\n      <td>1900</td>\n      <td>Summer</td>\n      <td>Paris</td>\n      <td>Tug-Of-War</td>\n      <td>Gold</td>\n    </tr>\n    <tr>\n      <th>37</th>\n      <td>M</td>\n      <td>Finland</td>\n      <td>FIN</td>\n      <td>1920 Summer</td>\n      <td>1920</td>\n      <td>Summer</td>\n      <td>Antwerpen</td>\n      <td>Swimming</td>\n      <td>Bronze</td>\n    </tr>\n    <tr>\n      <th>38</th>\n      <td>M</td>\n      <td>Finland</td>\n      <td>FIN</td>\n      <td>1920 Summer</td>\n      <td>1920</td>\n      <td>Summer</td>\n      <td>Antwerpen</td>\n      <td>Swimming</td>\n      <td>Bronze</td>\n    </tr>\n    <tr>\n      <th>40</th>\n      <td>M</td>\n      <td>Finland</td>\n      <td>FIN</td>\n      <td>2014 Winter</td>\n      <td>2014</td>\n      <td>Winter</td>\n      <td>Sochi</td>\n      <td>Ice Hockey</td>\n      <td>Bronze</td>\n    </tr>\n    <tr>\n      <th>41</th>\n      <td>M</td>\n      <td>Finland</td>\n      <td>FIN</td>\n      <td>1948 Summer</td>\n      <td>1948</td>\n      <td>Summer</td>\n      <td>London</td>\n      <td>Gymnastics</td>\n      <td>Bronze</td>\n    </tr>\n  </tbody>\n</table>\n</div>"
     },
     "metadata": {},
     "execution_count": 4
    }
   ],
   "source": [
    "# Drop NA medals\n",
    "medal_data = medal_data.dropna(subset= ['Medal'])\n",
    "medal_data.head()"
   ]
  },
  {
   "cell_type": "code",
   "execution_count": 5,
   "metadata": {},
   "outputs": [
    {
     "output_type": "execute_result",
     "data": {
      "text/plain": "               Team  NOC        Games  Year  Season       City       Sport  \\\nSex                                                                          \nM    Denmark/Sweden  DEN  1900 Summer  1900  Summer      Paris  Tug-Of-War   \nM           Finland  FIN  1920 Summer  1920  Summer  Antwerpen    Swimming   \nM           Finland  FIN  1920 Summer  1920  Summer  Antwerpen    Swimming   \nM           Finland  FIN  1948 Summer  1948  Summer     London  Gymnastics   \nM           Finland  FIN  1948 Summer  1948  Summer     London  Gymnastics   \n\n      Medal  \nSex          \nM      Gold  \nM    Bronze  \nM    Bronze  \nM    Bronze  \nM      Gold  ",
      "text/html": "<div>\n<style scoped>\n    .dataframe tbody tr th:only-of-type {\n        vertical-align: middle;\n    }\n\n    .dataframe tbody tr th {\n        vertical-align: top;\n    }\n\n    .dataframe thead th {\n        text-align: right;\n    }\n</style>\n<table border=\"1\" class=\"dataframe\">\n  <thead>\n    <tr style=\"text-align: right;\">\n      <th></th>\n      <th>Team</th>\n      <th>NOC</th>\n      <th>Games</th>\n      <th>Year</th>\n      <th>Season</th>\n      <th>City</th>\n      <th>Sport</th>\n      <th>Medal</th>\n    </tr>\n    <tr>\n      <th>Sex</th>\n      <th></th>\n      <th></th>\n      <th></th>\n      <th></th>\n      <th></th>\n      <th></th>\n      <th></th>\n      <th></th>\n    </tr>\n  </thead>\n  <tbody>\n    <tr>\n      <th>M</th>\n      <td>Denmark/Sweden</td>\n      <td>DEN</td>\n      <td>1900 Summer</td>\n      <td>1900</td>\n      <td>Summer</td>\n      <td>Paris</td>\n      <td>Tug-Of-War</td>\n      <td>Gold</td>\n    </tr>\n    <tr>\n      <th>M</th>\n      <td>Finland</td>\n      <td>FIN</td>\n      <td>1920 Summer</td>\n      <td>1920</td>\n      <td>Summer</td>\n      <td>Antwerpen</td>\n      <td>Swimming</td>\n      <td>Bronze</td>\n    </tr>\n    <tr>\n      <th>M</th>\n      <td>Finland</td>\n      <td>FIN</td>\n      <td>1920 Summer</td>\n      <td>1920</td>\n      <td>Summer</td>\n      <td>Antwerpen</td>\n      <td>Swimming</td>\n      <td>Bronze</td>\n    </tr>\n    <tr>\n      <th>M</th>\n      <td>Finland</td>\n      <td>FIN</td>\n      <td>1948 Summer</td>\n      <td>1948</td>\n      <td>Summer</td>\n      <td>London</td>\n      <td>Gymnastics</td>\n      <td>Bronze</td>\n    </tr>\n    <tr>\n      <th>M</th>\n      <td>Finland</td>\n      <td>FIN</td>\n      <td>1948 Summer</td>\n      <td>1948</td>\n      <td>Summer</td>\n      <td>London</td>\n      <td>Gymnastics</td>\n      <td>Gold</td>\n    </tr>\n  </tbody>\n</table>\n</div>"
     },
     "metadata": {},
     "execution_count": 5
    }
   ],
   "source": [
    "# Select desired Years\n",
    "medal_data = medal_data.loc[medal_data['Year'] < 2013]\n",
    "medal_data_clean = medal_data.set_index('Sex')\n",
    "medal_data_clean.head()"
   ]
  },
  {
   "cell_type": "markdown",
   "metadata": {},
   "source": [
    "## Country medals data"
   ]
  },
  {
   "cell_type": "code",
   "execution_count": 6,
   "metadata": {
    "tags": []
   },
   "outputs": [
    {
     "output_type": "execute_result",
     "data": {
      "text/plain": "     Bronze\nNOC        \nAFG       2\nALG       8\nANZ       5\nARG      91\nARM       9",
      "text/html": "<div>\n<style scoped>\n    .dataframe tbody tr th:only-of-type {\n        vertical-align: middle;\n    }\n\n    .dataframe tbody tr th {\n        vertical-align: top;\n    }\n\n    .dataframe thead th {\n        text-align: right;\n    }\n</style>\n<table border=\"1\" class=\"dataframe\">\n  <thead>\n    <tr style=\"text-align: right;\">\n      <th></th>\n      <th>Bronze</th>\n    </tr>\n    <tr>\n      <th>NOC</th>\n      <th></th>\n    </tr>\n  </thead>\n  <tbody>\n    <tr>\n      <th>AFG</th>\n      <td>2</td>\n    </tr>\n    <tr>\n      <th>ALG</th>\n      <td>8</td>\n    </tr>\n    <tr>\n      <th>ANZ</th>\n      <td>5</td>\n    </tr>\n    <tr>\n      <th>ARG</th>\n      <td>91</td>\n    </tr>\n    <tr>\n      <th>ARM</th>\n      <td>9</td>\n    </tr>\n  </tbody>\n</table>\n</div>"
     },
     "metadata": {},
     "execution_count": 6
    }
   ],
   "source": [
    "# Bronze medals\n",
    "bronze_df = medal_data.loc[medal_data[\"Medal\"] == \"Bronze\"]\n",
    "country_b = bronze_df.groupby(\"NOC\")\n",
    "country_b = country_b['Medal'].count()\n",
    "bronze_medals = pd.DataFrame(country_b)\n",
    "bronze_medals = bronze_medals.rename(columns={'Medal': 'Bronze'})\n",
    "bronze_medals.head()\n"
   ]
  },
  {
   "cell_type": "code",
   "execution_count": 7,
   "metadata": {},
   "outputs": [
    {
     "output_type": "execute_result",
     "data": {
      "text/plain": "     Silver\nNOC        \nAHO       1\nALG       2\nANZ       4\nARG      91\nARM       2",
      "text/html": "<div>\n<style scoped>\n    .dataframe tbody tr th:only-of-type {\n        vertical-align: middle;\n    }\n\n    .dataframe tbody tr th {\n        vertical-align: top;\n    }\n\n    .dataframe thead th {\n        text-align: right;\n    }\n</style>\n<table border=\"1\" class=\"dataframe\">\n  <thead>\n    <tr style=\"text-align: right;\">\n      <th></th>\n      <th>Silver</th>\n    </tr>\n    <tr>\n      <th>NOC</th>\n      <th></th>\n    </tr>\n  </thead>\n  <tbody>\n    <tr>\n      <th>AHO</th>\n      <td>1</td>\n    </tr>\n    <tr>\n      <th>ALG</th>\n      <td>2</td>\n    </tr>\n    <tr>\n      <th>ANZ</th>\n      <td>4</td>\n    </tr>\n    <tr>\n      <th>ARG</th>\n      <td>91</td>\n    </tr>\n    <tr>\n      <th>ARM</th>\n      <td>2</td>\n    </tr>\n  </tbody>\n</table>\n</div>"
     },
     "metadata": {},
     "execution_count": 7
    }
   ],
   "source": [
    "# Silver medals\n",
    "silver_df = medal_data.loc[medal_data[\"Medal\"] == \"Silver\"]\n",
    "country_s = silver_df.groupby(\"NOC\")\n",
    "country_s = country_s['Medal'].count()\n",
    "silver_medals = pd.DataFrame(country_s)\n",
    "silver_medals = silver_medals.rename(columns={'Medal': 'Silver'})\n",
    "silver_medals.head()\n"
   ]
  },
  {
   "cell_type": "code",
   "execution_count": 8,
   "metadata": {},
   "outputs": [
    {
     "output_type": "execute_result",
     "data": {
      "text/plain": "     Gold\nNOC      \nALG     5\nANZ    20\nARG    70\nARM     1\nAUS   325",
      "text/html": "<div>\n<style scoped>\n    .dataframe tbody tr th:only-of-type {\n        vertical-align: middle;\n    }\n\n    .dataframe tbody tr th {\n        vertical-align: top;\n    }\n\n    .dataframe thead th {\n        text-align: right;\n    }\n</style>\n<table border=\"1\" class=\"dataframe\">\n  <thead>\n    <tr style=\"text-align: right;\">\n      <th></th>\n      <th>Gold</th>\n    </tr>\n    <tr>\n      <th>NOC</th>\n      <th></th>\n    </tr>\n  </thead>\n  <tbody>\n    <tr>\n      <th>ALG</th>\n      <td>5</td>\n    </tr>\n    <tr>\n      <th>ANZ</th>\n      <td>20</td>\n    </tr>\n    <tr>\n      <th>ARG</th>\n      <td>70</td>\n    </tr>\n    <tr>\n      <th>ARM</th>\n      <td>1</td>\n    </tr>\n    <tr>\n      <th>AUS</th>\n      <td>325</td>\n    </tr>\n  </tbody>\n</table>\n</div>"
     },
     "metadata": {},
     "execution_count": 8
    }
   ],
   "source": [
    "# Gold medals\n",
    "gold_df = medal_data.loc[medal_data[\"Medal\"] == \"Gold\"]\n",
    "country_g = gold_df.groupby(\"NOC\")\n",
    "country_g = country_g['Medal'].count()\n",
    "gold_medals = pd.DataFrame(country_g)\n",
    "gold_medals = gold_medals.rename(columns={'Medal': 'Gold'})\n",
    "gold_medals.head()\n"
   ]
  },
  {
   "cell_type": "code",
   "execution_count": 9,
   "metadata": {},
   "outputs": [
    {
     "output_type": "execute_result",
     "data": {
      "text/plain": "     Bronze  Silver  Gold\nNOC                      \nAFG       2       0     0\nALG       8       2     5\nANZ       5       4    20\nARG      91      91    70\nARM       9       2     1",
      "text/html": "<div>\n<style scoped>\n    .dataframe tbody tr th:only-of-type {\n        vertical-align: middle;\n    }\n\n    .dataframe tbody tr th {\n        vertical-align: top;\n    }\n\n    .dataframe thead th {\n        text-align: right;\n    }\n</style>\n<table border=\"1\" class=\"dataframe\">\n  <thead>\n    <tr style=\"text-align: right;\">\n      <th></th>\n      <th>Bronze</th>\n      <th>Silver</th>\n      <th>Gold</th>\n    </tr>\n    <tr>\n      <th>NOC</th>\n      <th></th>\n      <th></th>\n      <th></th>\n    </tr>\n  </thead>\n  <tbody>\n    <tr>\n      <th>AFG</th>\n      <td>2</td>\n      <td>0</td>\n      <td>0</td>\n    </tr>\n    <tr>\n      <th>ALG</th>\n      <td>8</td>\n      <td>2</td>\n      <td>5</td>\n    </tr>\n    <tr>\n      <th>ANZ</th>\n      <td>5</td>\n      <td>4</td>\n      <td>20</td>\n    </tr>\n    <tr>\n      <th>ARG</th>\n      <td>91</td>\n      <td>91</td>\n      <td>70</td>\n    </tr>\n    <tr>\n      <th>ARM</th>\n      <td>9</td>\n      <td>2</td>\n      <td>1</td>\n    </tr>\n  </tbody>\n</table>\n</div>"
     },
     "metadata": {},
     "execution_count": 9
    }
   ],
   "source": [
    "bronze_silver_merge = bronze_medals.join(silver_medals)\n",
    "country_medal_data = bronze_silver_merge.join(gold_medals)\n",
    "country_medal_data = country_medal_data.fillna(0)\n",
    "country_medal_data = country_medal_data.astype(int)\n",
    "country_medal_data.head()"
   ]
  },
  {
   "cell_type": "code",
   "execution_count": 10,
   "metadata": {},
   "outputs": [],
   "source": [
    "# Save to CSV\n",
    "# country_medal_data.to_csv('../csv_data/country_medal_data.csv')\n",
    "\n",
    "medal_data_clean.to_csv('../csv_data/athlete_medal_data.csv')"
   ]
  },
  {
   "cell_type": "markdown",
   "metadata": {},
   "source": [
    "## NOC/Regions data"
   ]
  },
  {
   "cell_type": "code",
   "execution_count": 48,
   "metadata": {},
   "outputs": [
    {
     "output_type": "execute_result",
     "data": {
      "text/plain": "   NOC       region                 notes\n0  AFG  Afghanistan                   NaN\n1  AHO      Curacao  Netherlands Antilles\n2  ALB      Albania                   NaN\n3  ALG      Algeria                   NaN\n4  AND      Andorra                   NaN",
      "text/html": "<div>\n<style scoped>\n    .dataframe tbody tr th:only-of-type {\n        vertical-align: middle;\n    }\n\n    .dataframe tbody tr th {\n        vertical-align: top;\n    }\n\n    .dataframe thead th {\n        text-align: right;\n    }\n</style>\n<table border=\"1\" class=\"dataframe\">\n  <thead>\n    <tr style=\"text-align: right;\">\n      <th></th>\n      <th>NOC</th>\n      <th>region</th>\n      <th>notes</th>\n    </tr>\n  </thead>\n  <tbody>\n    <tr>\n      <th>0</th>\n      <td>AFG</td>\n      <td>Afghanistan</td>\n      <td>NaN</td>\n    </tr>\n    <tr>\n      <th>1</th>\n      <td>AHO</td>\n      <td>Curacao</td>\n      <td>Netherlands Antilles</td>\n    </tr>\n    <tr>\n      <th>2</th>\n      <td>ALB</td>\n      <td>Albania</td>\n      <td>NaN</td>\n    </tr>\n    <tr>\n      <th>3</th>\n      <td>ALG</td>\n      <td>Algeria</td>\n      <td>NaN</td>\n    </tr>\n    <tr>\n      <th>4</th>\n      <td>AND</td>\n      <td>Andorra</td>\n      <td>NaN</td>\n    </tr>\n  </tbody>\n</table>\n</div>"
     },
     "metadata": {},
     "execution_count": 48
    }
   ],
   "source": [
    "# Load in noc\n",
    "data_load5 = \"../csv_data/noc_regions.csv\"\n",
    "noc_data = pd.read_csv(data_load5)\n",
    "noc_data.head()"
   ]
  },
  {
   "cell_type": "code",
   "execution_count": 49,
   "metadata": {},
   "outputs": [
    {
     "output_type": "execute_result",
     "data": {
      "text/plain": "   NOC       region                 notes\n0  AFG  Afghanistan                   NaN\n1  AHO      Curacao  Netherlands Antilles\n2  ALB      Albania                   NaN\n3  ALG      Algeria                   NaN\n4  AND      Andorra                   NaN",
      "text/html": "<div>\n<style scoped>\n    .dataframe tbody tr th:only-of-type {\n        vertical-align: middle;\n    }\n\n    .dataframe tbody tr th {\n        vertical-align: top;\n    }\n\n    .dataframe thead th {\n        text-align: right;\n    }\n</style>\n<table border=\"1\" class=\"dataframe\">\n  <thead>\n    <tr style=\"text-align: right;\">\n      <th></th>\n      <th>NOC</th>\n      <th>region</th>\n      <th>notes</th>\n    </tr>\n  </thead>\n  <tbody>\n    <tr>\n      <th>0</th>\n      <td>AFG</td>\n      <td>Afghanistan</td>\n      <td>NaN</td>\n    </tr>\n    <tr>\n      <th>1</th>\n      <td>AHO</td>\n      <td>Curacao</td>\n      <td>Netherlands Antilles</td>\n    </tr>\n    <tr>\n      <th>2</th>\n      <td>ALB</td>\n      <td>Albania</td>\n      <td>NaN</td>\n    </tr>\n    <tr>\n      <th>3</th>\n      <td>ALG</td>\n      <td>Algeria</td>\n      <td>NaN</td>\n    </tr>\n    <tr>\n      <th>4</th>\n      <td>AND</td>\n      <td>Andorra</td>\n      <td>NaN</td>\n    </tr>\n  </tbody>\n</table>\n</div>"
     },
     "metadata": {},
     "execution_count": 49
    }
   ],
   "source": [
    "#convert notes into region\n",
    "noc_data['region'] = pd.np.where(noc_data.region.str.contains(\"NA\"), noc_data['notes'], noc_data['region'])\n",
    "noc_data.head()"
   ]
  },
  {
   "cell_type": "code",
   "execution_count": 50,
   "metadata": {},
   "outputs": [
    {
     "output_type": "execute_result",
     "data": {
      "text/plain": "   NOC       region                 notes\n0  AFG  Afghanistan                   NaN\n1  AHO      Curacao  Netherlands Antilles\n2  ALB      Albania                   NaN\n3  ALG      Algeria                   NaN\n4  AND      Andorra                   NaN",
      "text/html": "<div>\n<style scoped>\n    .dataframe tbody tr th:only-of-type {\n        vertical-align: middle;\n    }\n\n    .dataframe tbody tr th {\n        vertical-align: top;\n    }\n\n    .dataframe thead th {\n        text-align: right;\n    }\n</style>\n<table border=\"1\" class=\"dataframe\">\n  <thead>\n    <tr style=\"text-align: right;\">\n      <th></th>\n      <th>NOC</th>\n      <th>region</th>\n      <th>notes</th>\n    </tr>\n  </thead>\n  <tbody>\n    <tr>\n      <th>0</th>\n      <td>AFG</td>\n      <td>Afghanistan</td>\n      <td>NaN</td>\n    </tr>\n    <tr>\n      <th>1</th>\n      <td>AHO</td>\n      <td>Curacao</td>\n      <td>Netherlands Antilles</td>\n    </tr>\n    <tr>\n      <th>2</th>\n      <td>ALB</td>\n      <td>Albania</td>\n      <td>NaN</td>\n    </tr>\n    <tr>\n      <th>3</th>\n      <td>ALG</td>\n      <td>Algeria</td>\n      <td>NaN</td>\n    </tr>\n    <tr>\n      <th>4</th>\n      <td>AND</td>\n      <td>Andorra</td>\n      <td>NaN</td>\n    </tr>\n  </tbody>\n</table>\n</div>"
     },
     "metadata": {},
     "execution_count": 50
    }
   ],
   "source": [
    "# change singapore NOC\n",
    "noc_data['NOC'] = pd.np.where(noc_data.NOC.str.contains(\"SIN\"), \"SGP\", noc_data['NOC'])\n",
    "noc_data.head()"
   ]
  },
  {
   "cell_type": "code",
   "execution_count": 51,
   "metadata": {},
   "outputs": [
    {
     "output_type": "execute_result",
     "data": {
      "text/plain": "   NOC       region\n0  AFG  Afghanistan\n1  AHO      Curacao\n2  ALB      Albania\n3  ALG      Algeria\n4  AND      Andorra",
      "text/html": "<div>\n<style scoped>\n    .dataframe tbody tr th:only-of-type {\n        vertical-align: middle;\n    }\n\n    .dataframe tbody tr th {\n        vertical-align: top;\n    }\n\n    .dataframe thead th {\n        text-align: right;\n    }\n</style>\n<table border=\"1\" class=\"dataframe\">\n  <thead>\n    <tr style=\"text-align: right;\">\n      <th></th>\n      <th>NOC</th>\n      <th>region</th>\n    </tr>\n  </thead>\n  <tbody>\n    <tr>\n      <th>0</th>\n      <td>AFG</td>\n      <td>Afghanistan</td>\n    </tr>\n    <tr>\n      <th>1</th>\n      <td>AHO</td>\n      <td>Curacao</td>\n    </tr>\n    <tr>\n      <th>2</th>\n      <td>ALB</td>\n      <td>Albania</td>\n    </tr>\n    <tr>\n      <th>3</th>\n      <td>ALG</td>\n      <td>Algeria</td>\n    </tr>\n    <tr>\n      <th>4</th>\n      <td>AND</td>\n      <td>Andorra</td>\n    </tr>\n  </tbody>\n</table>\n</div>"
     },
     "metadata": {},
     "execution_count": 51
    }
   ],
   "source": [
    "# Drop notes\n",
    "noc_data = noc_data.drop(columns=['notes'])\n",
    "noc_data.head()"
   ]
  },
  {
   "cell_type": "markdown",
   "metadata": {},
   "source": [
    "## Country average temperature clean up"
   ]
  },
  {
   "cell_type": "code",
   "execution_count": 52,
   "metadata": {},
   "outputs": [
    {
     "output_type": "execute_result",
     "data": {
      "text/plain": "           dt  AverageTemperature  AverageTemperatureUncertainty  \\\n0  1743-11-01               4.384                          2.294   \n1  1743-12-01                 NaN                            NaN   \n2  1744-01-01                 NaN                            NaN   \n3  1744-02-01                 NaN                            NaN   \n4  1744-03-01                 NaN                            NaN   \n\n         Country  \n0  Aland Islands  \n1  Aland Islands  \n2  Aland Islands  \n3  Aland Islands  \n4  Aland Islands  ",
      "text/html": "<div>\n<style scoped>\n    .dataframe tbody tr th:only-of-type {\n        vertical-align: middle;\n    }\n\n    .dataframe tbody tr th {\n        vertical-align: top;\n    }\n\n    .dataframe thead th {\n        text-align: right;\n    }\n</style>\n<table border=\"1\" class=\"dataframe\">\n  <thead>\n    <tr style=\"text-align: right;\">\n      <th></th>\n      <th>dt</th>\n      <th>AverageTemperature</th>\n      <th>AverageTemperatureUncertainty</th>\n      <th>Country</th>\n    </tr>\n  </thead>\n  <tbody>\n    <tr>\n      <th>0</th>\n      <td>1743-11-01</td>\n      <td>4.384</td>\n      <td>2.294</td>\n      <td>Aland Islands</td>\n    </tr>\n    <tr>\n      <th>1</th>\n      <td>1743-12-01</td>\n      <td>NaN</td>\n      <td>NaN</td>\n      <td>Aland Islands</td>\n    </tr>\n    <tr>\n      <th>2</th>\n      <td>1744-01-01</td>\n      <td>NaN</td>\n      <td>NaN</td>\n      <td>Aland Islands</td>\n    </tr>\n    <tr>\n      <th>3</th>\n      <td>1744-02-01</td>\n      <td>NaN</td>\n      <td>NaN</td>\n      <td>Aland Islands</td>\n    </tr>\n    <tr>\n      <th>4</th>\n      <td>1744-03-01</td>\n      <td>NaN</td>\n      <td>NaN</td>\n      <td>Aland Islands</td>\n    </tr>\n  </tbody>\n</table>\n</div>"
     },
     "metadata": {},
     "execution_count": 52
    }
   ],
   "source": [
    "# Load in Temps. of Country and noc\n",
    "data_load3 = \"../csv_data/GlobalLandTemperaturesByCountry.csv\"\n",
    "country_temp_data = pd.read_csv(data_load3)\n",
    "country_temp_data.head()"
   ]
  },
  {
   "cell_type": "code",
   "execution_count": 53,
   "metadata": {},
   "outputs": [
    {
     "output_type": "execute_result",
     "data": {
      "text/plain": "         Year  AverageTemperature        Country\n0  1743-11-01               4.384  Aland Islands\n5  1744-04-01               1.530  Aland Islands\n6  1744-05-01               6.702  Aland Islands\n7  1744-06-01              11.609  Aland Islands\n8  1744-07-01              15.342  Aland Islands",
      "text/html": "<div>\n<style scoped>\n    .dataframe tbody tr th:only-of-type {\n        vertical-align: middle;\n    }\n\n    .dataframe tbody tr th {\n        vertical-align: top;\n    }\n\n    .dataframe thead th {\n        text-align: right;\n    }\n</style>\n<table border=\"1\" class=\"dataframe\">\n  <thead>\n    <tr style=\"text-align: right;\">\n      <th></th>\n      <th>Year</th>\n      <th>AverageTemperature</th>\n      <th>Country</th>\n    </tr>\n  </thead>\n  <tbody>\n    <tr>\n      <th>0</th>\n      <td>1743-11-01</td>\n      <td>4.384</td>\n      <td>Aland Islands</td>\n    </tr>\n    <tr>\n      <th>5</th>\n      <td>1744-04-01</td>\n      <td>1.530</td>\n      <td>Aland Islands</td>\n    </tr>\n    <tr>\n      <th>6</th>\n      <td>1744-05-01</td>\n      <td>6.702</td>\n      <td>Aland Islands</td>\n    </tr>\n    <tr>\n      <th>7</th>\n      <td>1744-06-01</td>\n      <td>11.609</td>\n      <td>Aland Islands</td>\n    </tr>\n    <tr>\n      <th>8</th>\n      <td>1744-07-01</td>\n      <td>15.342</td>\n      <td>Aland Islands</td>\n    </tr>\n  </tbody>\n</table>\n</div>"
     },
     "metadata": {},
     "execution_count": 53
    }
   ],
   "source": [
    "# Select desired rows and drop na\n",
    "country_temp = pd.DataFrame(country_temp_data, columns= ['dt', 'AverageTemperature', 'Country'])\n",
    "country_temp = country_temp.dropna()\n",
    "country_temp = country_temp.rename(columns={'dt': 'Year'})\n",
    "country_temp.head()"
   ]
  },
  {
   "cell_type": "code",
   "execution_count": 54,
   "metadata": {
    "tags": []
   },
   "outputs": [
    {
     "output_type": "execute_result",
     "data": {
      "text/plain": "   Year  AverageTemperature        Country\n0  1743               4.384  Aland Islands\n5  1744               1.530  Aland Islands\n6  1744               6.702  Aland Islands\n7  1744              11.609  Aland Islands\n8  1744              15.342  Aland Islands",
      "text/html": "<div>\n<style scoped>\n    .dataframe tbody tr th:only-of-type {\n        vertical-align: middle;\n    }\n\n    .dataframe tbody tr th {\n        vertical-align: top;\n    }\n\n    .dataframe thead th {\n        text-align: right;\n    }\n</style>\n<table border=\"1\" class=\"dataframe\">\n  <thead>\n    <tr style=\"text-align: right;\">\n      <th></th>\n      <th>Year</th>\n      <th>AverageTemperature</th>\n      <th>Country</th>\n    </tr>\n  </thead>\n  <tbody>\n    <tr>\n      <th>0</th>\n      <td>1743</td>\n      <td>4.384</td>\n      <td>Aland Islands</td>\n    </tr>\n    <tr>\n      <th>5</th>\n      <td>1744</td>\n      <td>1.530</td>\n      <td>Aland Islands</td>\n    </tr>\n    <tr>\n      <th>6</th>\n      <td>1744</td>\n      <td>6.702</td>\n      <td>Aland Islands</td>\n    </tr>\n    <tr>\n      <th>7</th>\n      <td>1744</td>\n      <td>11.609</td>\n      <td>Aland Islands</td>\n    </tr>\n    <tr>\n      <th>8</th>\n      <td>1744</td>\n      <td>15.342</td>\n      <td>Aland Islands</td>\n    </tr>\n  </tbody>\n</table>\n</div>"
     },
     "metadata": {},
     "execution_count": 54
    }
   ],
   "source": [
    "# change datetime into year integer\n",
    "country_temp['Year'] = pd.DatetimeIndex(country_temp['Year']).year\n",
    "country_temp.head()"
   ]
  },
  {
   "cell_type": "code",
   "execution_count": 55,
   "metadata": {},
   "outputs": [
    {
     "output_type": "execute_result",
     "data": {
      "text/plain": "      Year  AverageTemperature        Country\n1826  1896              -0.841  Aland Islands\n1827  1896              -0.718  Aland Islands\n1828  1896              -0.704  Aland Islands\n1829  1896               1.632  Aland Islands\n1830  1896               6.457  Aland Islands",
      "text/html": "<div>\n<style scoped>\n    .dataframe tbody tr th:only-of-type {\n        vertical-align: middle;\n    }\n\n    .dataframe tbody tr th {\n        vertical-align: top;\n    }\n\n    .dataframe thead th {\n        text-align: right;\n    }\n</style>\n<table border=\"1\" class=\"dataframe\">\n  <thead>\n    <tr style=\"text-align: right;\">\n      <th></th>\n      <th>Year</th>\n      <th>AverageTemperature</th>\n      <th>Country</th>\n    </tr>\n  </thead>\n  <tbody>\n    <tr>\n      <th>1826</th>\n      <td>1896</td>\n      <td>-0.841</td>\n      <td>Aland Islands</td>\n    </tr>\n    <tr>\n      <th>1827</th>\n      <td>1896</td>\n      <td>-0.718</td>\n      <td>Aland Islands</td>\n    </tr>\n    <tr>\n      <th>1828</th>\n      <td>1896</td>\n      <td>-0.704</td>\n      <td>Aland Islands</td>\n    </tr>\n    <tr>\n      <th>1829</th>\n      <td>1896</td>\n      <td>1.632</td>\n      <td>Aland Islands</td>\n    </tr>\n    <tr>\n      <th>1830</th>\n      <td>1896</td>\n      <td>6.457</td>\n      <td>Aland Islands</td>\n    </tr>\n  </tbody>\n</table>\n</div>"
     },
     "metadata": {},
     "execution_count": 55
    }
   ],
   "source": [
    "# Select desired Years\n",
    "country_temp = country_temp.loc[country_temp['Year'] > 1895]\n",
    "country_temp = country_temp.loc[country_temp['Year'] < 2013]\n",
    "country_temp.head()"
   ]
  },
  {
   "cell_type": "code",
   "execution_count": 56,
   "metadata": {},
   "outputs": [
    {
     "output_type": "execute_result",
     "data": {
      "text/plain": "   Year  AverageTemperature      Country  NOC       region\n0  1896               3.915  Afghanistan  AFG  Afghanistan\n1  1896               3.359  Afghanistan  AFG  Afghanistan\n2  1896               9.380  Afghanistan  AFG  Afghanistan\n3  1896              14.163  Afghanistan  AFG  Afghanistan\n4  1896              20.712  Afghanistan  AFG  Afghanistan",
      "text/html": "<div>\n<style scoped>\n    .dataframe tbody tr th:only-of-type {\n        vertical-align: middle;\n    }\n\n    .dataframe tbody tr th {\n        vertical-align: top;\n    }\n\n    .dataframe thead th {\n        text-align: right;\n    }\n</style>\n<table border=\"1\" class=\"dataframe\">\n  <thead>\n    <tr style=\"text-align: right;\">\n      <th></th>\n      <th>Year</th>\n      <th>AverageTemperature</th>\n      <th>Country</th>\n      <th>NOC</th>\n      <th>region</th>\n    </tr>\n  </thead>\n  <tbody>\n    <tr>\n      <th>0</th>\n      <td>1896</td>\n      <td>3.915</td>\n      <td>Afghanistan</td>\n      <td>AFG</td>\n      <td>Afghanistan</td>\n    </tr>\n    <tr>\n      <th>1</th>\n      <td>1896</td>\n      <td>3.359</td>\n      <td>Afghanistan</td>\n      <td>AFG</td>\n      <td>Afghanistan</td>\n    </tr>\n    <tr>\n      <th>2</th>\n      <td>1896</td>\n      <td>9.380</td>\n      <td>Afghanistan</td>\n      <td>AFG</td>\n      <td>Afghanistan</td>\n    </tr>\n    <tr>\n      <th>3</th>\n      <td>1896</td>\n      <td>14.163</td>\n      <td>Afghanistan</td>\n      <td>AFG</td>\n      <td>Afghanistan</td>\n    </tr>\n    <tr>\n      <th>4</th>\n      <td>1896</td>\n      <td>20.712</td>\n      <td>Afghanistan</td>\n      <td>AFG</td>\n      <td>Afghanistan</td>\n    </tr>\n  </tbody>\n</table>\n</div>"
     },
     "metadata": {},
     "execution_count": 56
    }
   ],
   "source": [
    "# merge tables to add NOC column\n",
    "country_temp = pd.merge(left=country_temp, right=noc_data, left_on=\"Country\", right_on=\"region\")\n",
    "country_temp = country_temp.rename(columns={'NOC_x': 'NOC'})\n",
    "country_temp.head()"
   ]
  },
  {
   "cell_type": "code",
   "execution_count": 57,
   "metadata": {
    "tags": []
   },
   "outputs": [
    {
     "output_type": "execute_result",
     "data": {
      "text/plain": "       Country  Year  NOC  AverageTemperature\n0  Afghanistan  1896  AFG           14.098750\n1  Afghanistan  1897  AFG           13.549750\n2  Afghanistan  1898  AFG           13.461583\n3  Afghanistan  1899  AFG           14.395833\n4  Afghanistan  1900  AFG           13.749333",
      "text/html": "<div>\n<style scoped>\n    .dataframe tbody tr th:only-of-type {\n        vertical-align: middle;\n    }\n\n    .dataframe tbody tr th {\n        vertical-align: top;\n    }\n\n    .dataframe thead th {\n        text-align: right;\n    }\n</style>\n<table border=\"1\" class=\"dataframe\">\n  <thead>\n    <tr style=\"text-align: right;\">\n      <th></th>\n      <th>Country</th>\n      <th>Year</th>\n      <th>NOC</th>\n      <th>AverageTemperature</th>\n    </tr>\n  </thead>\n  <tbody>\n    <tr>\n      <th>0</th>\n      <td>Afghanistan</td>\n      <td>1896</td>\n      <td>AFG</td>\n      <td>14.098750</td>\n    </tr>\n    <tr>\n      <th>1</th>\n      <td>Afghanistan</td>\n      <td>1897</td>\n      <td>AFG</td>\n      <td>13.549750</td>\n    </tr>\n    <tr>\n      <th>2</th>\n      <td>Afghanistan</td>\n      <td>1898</td>\n      <td>AFG</td>\n      <td>13.461583</td>\n    </tr>\n    <tr>\n      <th>3</th>\n      <td>Afghanistan</td>\n      <td>1899</td>\n      <td>AFG</td>\n      <td>14.395833</td>\n    </tr>\n    <tr>\n      <th>4</th>\n      <td>Afghanistan</td>\n      <td>1900</td>\n      <td>AFG</td>\n      <td>13.749333</td>\n    </tr>\n  </tbody>\n</table>\n</div>"
     },
     "metadata": {},
     "execution_count": 57
    }
   ],
   "source": [
    "#select desired columns and calculate temp\n",
    "country_temp = country_temp.groupby(['Country', 'Year', 'NOC'])\n",
    "country_temp = country_temp['AverageTemperature'].mean()\n",
    "country_temp = country_temp.reset_index()\n",
    "country_temp.head()"
   ]
  },
  {
   "cell_type": "code",
   "execution_count": 96,
   "metadata": {},
   "outputs": [
    {
     "output_type": "execute_result",
     "data": {
      "text/plain": "       Country  Year  NOC  AverageTemperature\n0  Afghanistan  1896  AFG           14.098750\n1  Afghanistan  1897  AFG           13.549750\n2  Afghanistan  1898  AFG           13.461583\n3  Afghanistan  1899  AFG           14.395833\n4  Afghanistan  1900  AFG           13.749333",
      "text/html": "<div>\n<style scoped>\n    .dataframe tbody tr th:only-of-type {\n        vertical-align: middle;\n    }\n\n    .dataframe tbody tr th {\n        vertical-align: top;\n    }\n\n    .dataframe thead th {\n        text-align: right;\n    }\n</style>\n<table border=\"1\" class=\"dataframe\">\n  <thead>\n    <tr style=\"text-align: right;\">\n      <th></th>\n      <th>Country</th>\n      <th>Year</th>\n      <th>NOC</th>\n      <th>AverageTemperature</th>\n    </tr>\n  </thead>\n  <tbody>\n    <tr>\n      <th>0</th>\n      <td>Afghanistan</td>\n      <td>1896</td>\n      <td>AFG</td>\n      <td>14.098750</td>\n    </tr>\n    <tr>\n      <th>1</th>\n      <td>Afghanistan</td>\n      <td>1897</td>\n      <td>AFG</td>\n      <td>13.549750</td>\n    </tr>\n    <tr>\n      <th>2</th>\n      <td>Afghanistan</td>\n      <td>1898</td>\n      <td>AFG</td>\n      <td>13.461583</td>\n    </tr>\n    <tr>\n      <th>3</th>\n      <td>Afghanistan</td>\n      <td>1899</td>\n      <td>AFG</td>\n      <td>14.395833</td>\n    </tr>\n    <tr>\n      <th>4</th>\n      <td>Afghanistan</td>\n      <td>1900</td>\n      <td>AFG</td>\n      <td>13.749333</td>\n    </tr>\n  </tbody>\n</table>\n</div>"
     },
     "metadata": {},
     "execution_count": 96
    }
   ],
   "source": [
    "# Create clean dataframe\n",
    "country_temp.reset_index(drop=True, inplace=False)\n",
    "country_temp_clean = pd.DataFrame(country_temp)\n",
    "country_temp_clean.head()"
   ]
  },
  {
   "cell_type": "code",
   "execution_count": 97,
   "metadata": {},
   "outputs": [
    {
     "output_type": "execute_result",
     "data": {
      "text/plain": "             Year  NOC  AverageTemperature\nCountry                                   \nAfghanistan  1896  AFG           14.098750\nAfghanistan  1897  AFG           13.549750\nAfghanistan  1898  AFG           13.461583\nAfghanistan  1899  AFG           14.395833\nAfghanistan  1900  AFG           13.749333",
      "text/html": "<div>\n<style scoped>\n    .dataframe tbody tr th:only-of-type {\n        vertical-align: middle;\n    }\n\n    .dataframe tbody tr th {\n        vertical-align: top;\n    }\n\n    .dataframe thead th {\n        text-align: right;\n    }\n</style>\n<table border=\"1\" class=\"dataframe\">\n  <thead>\n    <tr style=\"text-align: right;\">\n      <th></th>\n      <th>Year</th>\n      <th>NOC</th>\n      <th>AverageTemperature</th>\n    </tr>\n    <tr>\n      <th>Country</th>\n      <th></th>\n      <th></th>\n      <th></th>\n    </tr>\n  </thead>\n  <tbody>\n    <tr>\n      <th>Afghanistan</th>\n      <td>1896</td>\n      <td>AFG</td>\n      <td>14.098750</td>\n    </tr>\n    <tr>\n      <th>Afghanistan</th>\n      <td>1897</td>\n      <td>AFG</td>\n      <td>13.549750</td>\n    </tr>\n    <tr>\n      <th>Afghanistan</th>\n      <td>1898</td>\n      <td>AFG</td>\n      <td>13.461583</td>\n    </tr>\n    <tr>\n      <th>Afghanistan</th>\n      <td>1899</td>\n      <td>AFG</td>\n      <td>14.395833</td>\n    </tr>\n    <tr>\n      <th>Afghanistan</th>\n      <td>1900</td>\n      <td>AFG</td>\n      <td>13.749333</td>\n    </tr>\n  </tbody>\n</table>\n</div>"
     },
     "metadata": {},
     "execution_count": 97
    }
   ],
   "source": [
    "# Create final index on clean data\n",
    "country_temp_final = country_temp_clean.set_index('Country')\n",
    "country_temp_final.head()"
   ]
  },
  {
   "cell_type": "code",
   "execution_count": 60,
   "metadata": {},
   "outputs": [],
   "source": [
    "# Save to CSV\n",
    "country_temp_clean.to_csv('../csv_data/country_temperature_data.csv')"
   ]
  },
  {
   "cell_type": "markdown",
   "metadata": {},
   "source": [
    "## City average temperatue data"
   ]
  },
  {
   "cell_type": "code",
   "execution_count": 61,
   "metadata": {},
   "outputs": [
    {
     "output_type": "execute_result",
     "data": {
      "text/plain": "           dt  AverageTemperature  AverageTemperatureUncertainty     City  \\\n0  1849-01-01              26.704                          1.435  Abidjan   \n1  1849-02-01              27.434                          1.362  Abidjan   \n2  1849-03-01              28.101                          1.612  Abidjan   \n3  1849-04-01              26.140                          1.387  Abidjan   \n4  1849-05-01              25.427                          1.200  Abidjan   \n\n         Country Latitude Longitude  \n0  Cote d'Ivoire    5.63N     3.23W  \n1  Cote d'Ivoire    5.63N     3.23W  \n2  Cote d'Ivoire    5.63N     3.23W  \n3  Cote d'Ivoire    5.63N     3.23W  \n4  Cote d'Ivoire    5.63N     3.23W  ",
      "text/html": "<div>\n<style scoped>\n    .dataframe tbody tr th:only-of-type {\n        vertical-align: middle;\n    }\n\n    .dataframe tbody tr th {\n        vertical-align: top;\n    }\n\n    .dataframe thead th {\n        text-align: right;\n    }\n</style>\n<table border=\"1\" class=\"dataframe\">\n  <thead>\n    <tr style=\"text-align: right;\">\n      <th></th>\n      <th>dt</th>\n      <th>AverageTemperature</th>\n      <th>AverageTemperatureUncertainty</th>\n      <th>City</th>\n      <th>Country</th>\n      <th>Latitude</th>\n      <th>Longitude</th>\n    </tr>\n  </thead>\n  <tbody>\n    <tr>\n      <th>0</th>\n      <td>1849-01-01</td>\n      <td>26.704</td>\n      <td>1.435</td>\n      <td>Abidjan</td>\n      <td>Cote d'Ivoire</td>\n      <td>5.63N</td>\n      <td>3.23W</td>\n    </tr>\n    <tr>\n      <th>1</th>\n      <td>1849-02-01</td>\n      <td>27.434</td>\n      <td>1.362</td>\n      <td>Abidjan</td>\n      <td>Cote d'Ivoire</td>\n      <td>5.63N</td>\n      <td>3.23W</td>\n    </tr>\n    <tr>\n      <th>2</th>\n      <td>1849-03-01</td>\n      <td>28.101</td>\n      <td>1.612</td>\n      <td>Abidjan</td>\n      <td>Cote d'Ivoire</td>\n      <td>5.63N</td>\n      <td>3.23W</td>\n    </tr>\n    <tr>\n      <th>3</th>\n      <td>1849-04-01</td>\n      <td>26.140</td>\n      <td>1.387</td>\n      <td>Abidjan</td>\n      <td>Cote d'Ivoire</td>\n      <td>5.63N</td>\n      <td>3.23W</td>\n    </tr>\n    <tr>\n      <th>4</th>\n      <td>1849-05-01</td>\n      <td>25.427</td>\n      <td>1.200</td>\n      <td>Abidjan</td>\n      <td>Cote d'Ivoire</td>\n      <td>5.63N</td>\n      <td>3.23W</td>\n    </tr>\n  </tbody>\n</table>\n</div>"
     },
     "metadata": {},
     "execution_count": 61
    }
   ],
   "source": [
    "# Load in Temps. of City\n",
    "data_load4 = \"../csv_data/GlobalLandTemperaturesByMajorCity.csv\"\n",
    "city_temp_data = pd.read_csv(data_load4)\n",
    "city_temp_data.head()"
   ]
  },
  {
   "cell_type": "code",
   "execution_count": 62,
   "metadata": {},
   "outputs": [
    {
     "output_type": "execute_result",
     "data": {
      "text/plain": "         Year  AverageTemperature     City        Country Latitude Longitude\n0  1849-01-01              26.704  Abidjan  Cote d'Ivoire    5.63N     3.23W\n1  1849-02-01              27.434  Abidjan  Cote d'Ivoire    5.63N     3.23W\n2  1849-03-01              28.101  Abidjan  Cote d'Ivoire    5.63N     3.23W\n3  1849-04-01              26.140  Abidjan  Cote d'Ivoire    5.63N     3.23W\n4  1849-05-01              25.427  Abidjan  Cote d'Ivoire    5.63N     3.23W",
      "text/html": "<div>\n<style scoped>\n    .dataframe tbody tr th:only-of-type {\n        vertical-align: middle;\n    }\n\n    .dataframe tbody tr th {\n        vertical-align: top;\n    }\n\n    .dataframe thead th {\n        text-align: right;\n    }\n</style>\n<table border=\"1\" class=\"dataframe\">\n  <thead>\n    <tr style=\"text-align: right;\">\n      <th></th>\n      <th>Year</th>\n      <th>AverageTemperature</th>\n      <th>City</th>\n      <th>Country</th>\n      <th>Latitude</th>\n      <th>Longitude</th>\n    </tr>\n  </thead>\n  <tbody>\n    <tr>\n      <th>0</th>\n      <td>1849-01-01</td>\n      <td>26.704</td>\n      <td>Abidjan</td>\n      <td>Cote d'Ivoire</td>\n      <td>5.63N</td>\n      <td>3.23W</td>\n    </tr>\n    <tr>\n      <th>1</th>\n      <td>1849-02-01</td>\n      <td>27.434</td>\n      <td>Abidjan</td>\n      <td>Cote d'Ivoire</td>\n      <td>5.63N</td>\n      <td>3.23W</td>\n    </tr>\n    <tr>\n      <th>2</th>\n      <td>1849-03-01</td>\n      <td>28.101</td>\n      <td>Abidjan</td>\n      <td>Cote d'Ivoire</td>\n      <td>5.63N</td>\n      <td>3.23W</td>\n    </tr>\n    <tr>\n      <th>3</th>\n      <td>1849-04-01</td>\n      <td>26.140</td>\n      <td>Abidjan</td>\n      <td>Cote d'Ivoire</td>\n      <td>5.63N</td>\n      <td>3.23W</td>\n    </tr>\n    <tr>\n      <th>4</th>\n      <td>1849-05-01</td>\n      <td>25.427</td>\n      <td>Abidjan</td>\n      <td>Cote d'Ivoire</td>\n      <td>5.63N</td>\n      <td>3.23W</td>\n    </tr>\n  </tbody>\n</table>\n</div>"
     },
     "metadata": {},
     "execution_count": 62
    }
   ],
   "source": [
    "# Select desired rows and drop na\n",
    "city_temp = pd.DataFrame(city_temp_data, columns= ['dt', 'AverageTemperature', 'City', 'Country', 'Latitude', 'Longitude'])\n",
    "city_temp = city_temp.dropna()\n",
    "city_temp = city_temp.rename(columns={'dt': 'Year'})\n",
    "city_temp.head()"
   ]
  },
  {
   "cell_type": "code",
   "execution_count": 63,
   "metadata": {},
   "outputs": [
    {
     "output_type": "execute_result",
     "data": {
      "text/plain": "   Year  AverageTemperature     City        Country Latitude Longitude\n0  1849              26.704  Abidjan  Cote d'Ivoire    5.63N     3.23W\n1  1849              27.434  Abidjan  Cote d'Ivoire    5.63N     3.23W\n2  1849              28.101  Abidjan  Cote d'Ivoire    5.63N     3.23W\n3  1849              26.140  Abidjan  Cote d'Ivoire    5.63N     3.23W\n4  1849              25.427  Abidjan  Cote d'Ivoire    5.63N     3.23W",
      "text/html": "<div>\n<style scoped>\n    .dataframe tbody tr th:only-of-type {\n        vertical-align: middle;\n    }\n\n    .dataframe tbody tr th {\n        vertical-align: top;\n    }\n\n    .dataframe thead th {\n        text-align: right;\n    }\n</style>\n<table border=\"1\" class=\"dataframe\">\n  <thead>\n    <tr style=\"text-align: right;\">\n      <th></th>\n      <th>Year</th>\n      <th>AverageTemperature</th>\n      <th>City</th>\n      <th>Country</th>\n      <th>Latitude</th>\n      <th>Longitude</th>\n    </tr>\n  </thead>\n  <tbody>\n    <tr>\n      <th>0</th>\n      <td>1849</td>\n      <td>26.704</td>\n      <td>Abidjan</td>\n      <td>Cote d'Ivoire</td>\n      <td>5.63N</td>\n      <td>3.23W</td>\n    </tr>\n    <tr>\n      <th>1</th>\n      <td>1849</td>\n      <td>27.434</td>\n      <td>Abidjan</td>\n      <td>Cote d'Ivoire</td>\n      <td>5.63N</td>\n      <td>3.23W</td>\n    </tr>\n    <tr>\n      <th>2</th>\n      <td>1849</td>\n      <td>28.101</td>\n      <td>Abidjan</td>\n      <td>Cote d'Ivoire</td>\n      <td>5.63N</td>\n      <td>3.23W</td>\n    </tr>\n    <tr>\n      <th>3</th>\n      <td>1849</td>\n      <td>26.140</td>\n      <td>Abidjan</td>\n      <td>Cote d'Ivoire</td>\n      <td>5.63N</td>\n      <td>3.23W</td>\n    </tr>\n    <tr>\n      <th>4</th>\n      <td>1849</td>\n      <td>25.427</td>\n      <td>Abidjan</td>\n      <td>Cote d'Ivoire</td>\n      <td>5.63N</td>\n      <td>3.23W</td>\n    </tr>\n  </tbody>\n</table>\n</div>"
     },
     "metadata": {},
     "execution_count": 63
    }
   ],
   "source": [
    "# Change dt to Year inetger\n",
    "city_temp['Year'] = pd.DatetimeIndex(city_temp['Year']).year\n",
    "city_temp.head()"
   ]
  },
  {
   "cell_type": "code",
   "execution_count": 64,
   "metadata": {
    "tags": []
   },
   "outputs": [
    {
     "output_type": "execute_result",
     "data": {
      "text/plain": "   Year  AverageTemperature     City        Country Latitude Longitude   Lat  \\\n0  1849              26.704  Abidjan  Cote d'Ivoire    5.63N     3.23W  5.63   \n1  1849              27.434  Abidjan  Cote d'Ivoire    5.63N     3.23W  5.63   \n2  1849              28.101  Abidjan  Cote d'Ivoire    5.63N     3.23W  5.63   \n3  1849              26.140  Abidjan  Cote d'Ivoire    5.63N     3.23W  5.63   \n4  1849              25.427  Abidjan  Cote d'Ivoire    5.63N     3.23W  5.63   \n\n    Long  \n0  -3.23  \n1  -3.23  \n2  -3.23  \n3  -3.23  \n4  -3.23  ",
      "text/html": "<div>\n<style scoped>\n    .dataframe tbody tr th:only-of-type {\n        vertical-align: middle;\n    }\n\n    .dataframe tbody tr th {\n        vertical-align: top;\n    }\n\n    .dataframe thead th {\n        text-align: right;\n    }\n</style>\n<table border=\"1\" class=\"dataframe\">\n  <thead>\n    <tr style=\"text-align: right;\">\n      <th></th>\n      <th>Year</th>\n      <th>AverageTemperature</th>\n      <th>City</th>\n      <th>Country</th>\n      <th>Latitude</th>\n      <th>Longitude</th>\n      <th>Lat</th>\n      <th>Long</th>\n    </tr>\n  </thead>\n  <tbody>\n    <tr>\n      <th>0</th>\n      <td>1849</td>\n      <td>26.704</td>\n      <td>Abidjan</td>\n      <td>Cote d'Ivoire</td>\n      <td>5.63N</td>\n      <td>3.23W</td>\n      <td>5.63</td>\n      <td>-3.23</td>\n    </tr>\n    <tr>\n      <th>1</th>\n      <td>1849</td>\n      <td>27.434</td>\n      <td>Abidjan</td>\n      <td>Cote d'Ivoire</td>\n      <td>5.63N</td>\n      <td>3.23W</td>\n      <td>5.63</td>\n      <td>-3.23</td>\n    </tr>\n    <tr>\n      <th>2</th>\n      <td>1849</td>\n      <td>28.101</td>\n      <td>Abidjan</td>\n      <td>Cote d'Ivoire</td>\n      <td>5.63N</td>\n      <td>3.23W</td>\n      <td>5.63</td>\n      <td>-3.23</td>\n    </tr>\n    <tr>\n      <th>3</th>\n      <td>1849</td>\n      <td>26.140</td>\n      <td>Abidjan</td>\n      <td>Cote d'Ivoire</td>\n      <td>5.63N</td>\n      <td>3.23W</td>\n      <td>5.63</td>\n      <td>-3.23</td>\n    </tr>\n    <tr>\n      <th>4</th>\n      <td>1849</td>\n      <td>25.427</td>\n      <td>Abidjan</td>\n      <td>Cote d'Ivoire</td>\n      <td>5.63N</td>\n      <td>3.23W</td>\n      <td>5.63</td>\n      <td>-3.23</td>\n    </tr>\n  </tbody>\n</table>\n</div>"
     },
     "metadata": {},
     "execution_count": 64
    }
   ],
   "source": [
    "# Changing Latitude South and Longitude South to negative\n",
    "city_temp['Lat'] = pd.np.where(city_temp.Latitude.str.contains(\"S\"), \"-\" + city_temp['Latitude'], city_temp['Latitude'])\n",
    "city_temp['Long'] = pd.np.where(city_temp.Longitude.str.contains(\"W\"), \"-\" + city_temp['Longitude'], city_temp['Longitude'])\n",
    "\n",
    "# Slicing of N and W from Latitude and Longitude and adding (-) to longitude\n",
    "city_temp['Lat'] = city_temp['Lat'].str[:-1]\n",
    "city_temp['Long'] = city_temp['Long'].str[:-1]\n",
    "\n",
    "city_temp.head()"
   ]
  },
  {
   "cell_type": "code",
   "execution_count": 65,
   "metadata": {},
   "outputs": [
    {
     "output_type": "execute_result",
     "data": {
      "text/plain": "   Year  AverageTemperature     City        Country Latitude Longitude\n0  1849              26.704  Abidjan  Cote d'Ivoire     5.63     -3.23\n1  1849              27.434  Abidjan  Cote d'Ivoire     5.63     -3.23\n2  1849              28.101  Abidjan  Cote d'Ivoire     5.63     -3.23\n3  1849              26.140  Abidjan  Cote d'Ivoire     5.63     -3.23\n4  1849              25.427  Abidjan  Cote d'Ivoire     5.63     -3.23",
      "text/html": "<div>\n<style scoped>\n    .dataframe tbody tr th:only-of-type {\n        vertical-align: middle;\n    }\n\n    .dataframe tbody tr th {\n        vertical-align: top;\n    }\n\n    .dataframe thead th {\n        text-align: right;\n    }\n</style>\n<table border=\"1\" class=\"dataframe\">\n  <thead>\n    <tr style=\"text-align: right;\">\n      <th></th>\n      <th>Year</th>\n      <th>AverageTemperature</th>\n      <th>City</th>\n      <th>Country</th>\n      <th>Latitude</th>\n      <th>Longitude</th>\n    </tr>\n  </thead>\n  <tbody>\n    <tr>\n      <th>0</th>\n      <td>1849</td>\n      <td>26.704</td>\n      <td>Abidjan</td>\n      <td>Cote d'Ivoire</td>\n      <td>5.63</td>\n      <td>-3.23</td>\n    </tr>\n    <tr>\n      <th>1</th>\n      <td>1849</td>\n      <td>27.434</td>\n      <td>Abidjan</td>\n      <td>Cote d'Ivoire</td>\n      <td>5.63</td>\n      <td>-3.23</td>\n    </tr>\n    <tr>\n      <th>2</th>\n      <td>1849</td>\n      <td>28.101</td>\n      <td>Abidjan</td>\n      <td>Cote d'Ivoire</td>\n      <td>5.63</td>\n      <td>-3.23</td>\n    </tr>\n    <tr>\n      <th>3</th>\n      <td>1849</td>\n      <td>26.140</td>\n      <td>Abidjan</td>\n      <td>Cote d'Ivoire</td>\n      <td>5.63</td>\n      <td>-3.23</td>\n    </tr>\n    <tr>\n      <th>4</th>\n      <td>1849</td>\n      <td>25.427</td>\n      <td>Abidjan</td>\n      <td>Cote d'Ivoire</td>\n      <td>5.63</td>\n      <td>-3.23</td>\n    </tr>\n  </tbody>\n</table>\n</div>"
     },
     "metadata": {},
     "execution_count": 65
    }
   ],
   "source": [
    "# Drop Latitude and Longitude Columns\n",
    "city_temp = city_temp.drop(columns=['Latitude', 'Longitude'])\n",
    "\n",
    "# Rename Lat and Long Columns\n",
    "city_temp = city_temp.rename(columns={'Lat': 'Latitude', 'Long':'Longitude'})\n",
    "\n",
    "city_temp.head()"
   ]
  },
  {
   "cell_type": "code",
   "execution_count": 66,
   "metadata": {},
   "outputs": [
    {
     "output_type": "execute_result",
     "data": {
      "text/plain": "     Year  AverageTemperature     City        Country Latitude Longitude\n564  1896              26.059  Abidjan  Cote d'Ivoire     5.63     -3.23\n565  1896              27.611  Abidjan  Cote d'Ivoire     5.63     -3.23\n566  1896              26.907  Abidjan  Cote d'Ivoire     5.63     -3.23\n567  1896              26.635  Abidjan  Cote d'Ivoire     5.63     -3.23\n568  1896              25.530  Abidjan  Cote d'Ivoire     5.63     -3.23",
      "text/html": "<div>\n<style scoped>\n    .dataframe tbody tr th:only-of-type {\n        vertical-align: middle;\n    }\n\n    .dataframe tbody tr th {\n        vertical-align: top;\n    }\n\n    .dataframe thead th {\n        text-align: right;\n    }\n</style>\n<table border=\"1\" class=\"dataframe\">\n  <thead>\n    <tr style=\"text-align: right;\">\n      <th></th>\n      <th>Year</th>\n      <th>AverageTemperature</th>\n      <th>City</th>\n      <th>Country</th>\n      <th>Latitude</th>\n      <th>Longitude</th>\n    </tr>\n  </thead>\n  <tbody>\n    <tr>\n      <th>564</th>\n      <td>1896</td>\n      <td>26.059</td>\n      <td>Abidjan</td>\n      <td>Cote d'Ivoire</td>\n      <td>5.63</td>\n      <td>-3.23</td>\n    </tr>\n    <tr>\n      <th>565</th>\n      <td>1896</td>\n      <td>27.611</td>\n      <td>Abidjan</td>\n      <td>Cote d'Ivoire</td>\n      <td>5.63</td>\n      <td>-3.23</td>\n    </tr>\n    <tr>\n      <th>566</th>\n      <td>1896</td>\n      <td>26.907</td>\n      <td>Abidjan</td>\n      <td>Cote d'Ivoire</td>\n      <td>5.63</td>\n      <td>-3.23</td>\n    </tr>\n    <tr>\n      <th>567</th>\n      <td>1896</td>\n      <td>26.635</td>\n      <td>Abidjan</td>\n      <td>Cote d'Ivoire</td>\n      <td>5.63</td>\n      <td>-3.23</td>\n    </tr>\n    <tr>\n      <th>568</th>\n      <td>1896</td>\n      <td>25.530</td>\n      <td>Abidjan</td>\n      <td>Cote d'Ivoire</td>\n      <td>5.63</td>\n      <td>-3.23</td>\n    </tr>\n  </tbody>\n</table>\n</div>"
     },
     "metadata": {},
     "execution_count": 66
    }
   ],
   "source": [
    "# Select desired Years\n",
    "city_temp = city_temp.loc[city_temp['Year'] > 1895]\n",
    "city_temp = city_temp.loc[city_temp['Year'] < 2013]\n",
    "\n",
    "city_temp.head()"
   ]
  },
  {
   "cell_type": "code",
   "execution_count": 67,
   "metadata": {},
   "outputs": [
    {
     "output_type": "execute_result",
     "data": {
      "text/plain": "   Year  AverageTemperature         City   Country Latitude Longitude  NOC  \\\n0  1896              17.076  Addis Abeba  Ethiopia     8.84     38.11  ETH   \n1  1896              17.911  Addis Abeba  Ethiopia     8.84     38.11  ETH   \n2  1896              18.869  Addis Abeba  Ethiopia     8.84     38.11  ETH   \n3  1896              19.186  Addis Abeba  Ethiopia     8.84     38.11  ETH   \n4  1896              18.924  Addis Abeba  Ethiopia     8.84     38.11  ETH   \n\n     region  \n0  Ethiopia  \n1  Ethiopia  \n2  Ethiopia  \n3  Ethiopia  \n4  Ethiopia  ",
      "text/html": "<div>\n<style scoped>\n    .dataframe tbody tr th:only-of-type {\n        vertical-align: middle;\n    }\n\n    .dataframe tbody tr th {\n        vertical-align: top;\n    }\n\n    .dataframe thead th {\n        text-align: right;\n    }\n</style>\n<table border=\"1\" class=\"dataframe\">\n  <thead>\n    <tr style=\"text-align: right;\">\n      <th></th>\n      <th>Year</th>\n      <th>AverageTemperature</th>\n      <th>City</th>\n      <th>Country</th>\n      <th>Latitude</th>\n      <th>Longitude</th>\n      <th>NOC</th>\n      <th>region</th>\n    </tr>\n  </thead>\n  <tbody>\n    <tr>\n      <th>0</th>\n      <td>1896</td>\n      <td>17.076</td>\n      <td>Addis Abeba</td>\n      <td>Ethiopia</td>\n      <td>8.84</td>\n      <td>38.11</td>\n      <td>ETH</td>\n      <td>Ethiopia</td>\n    </tr>\n    <tr>\n      <th>1</th>\n      <td>1896</td>\n      <td>17.911</td>\n      <td>Addis Abeba</td>\n      <td>Ethiopia</td>\n      <td>8.84</td>\n      <td>38.11</td>\n      <td>ETH</td>\n      <td>Ethiopia</td>\n    </tr>\n    <tr>\n      <th>2</th>\n      <td>1896</td>\n      <td>18.869</td>\n      <td>Addis Abeba</td>\n      <td>Ethiopia</td>\n      <td>8.84</td>\n      <td>38.11</td>\n      <td>ETH</td>\n      <td>Ethiopia</td>\n    </tr>\n    <tr>\n      <th>3</th>\n      <td>1896</td>\n      <td>19.186</td>\n      <td>Addis Abeba</td>\n      <td>Ethiopia</td>\n      <td>8.84</td>\n      <td>38.11</td>\n      <td>ETH</td>\n      <td>Ethiopia</td>\n    </tr>\n    <tr>\n      <th>4</th>\n      <td>1896</td>\n      <td>18.924</td>\n      <td>Addis Abeba</td>\n      <td>Ethiopia</td>\n      <td>8.84</td>\n      <td>38.11</td>\n      <td>ETH</td>\n      <td>Ethiopia</td>\n    </tr>\n  </tbody>\n</table>\n</div>"
     },
     "metadata": {},
     "execution_count": 67
    }
   ],
   "source": [
    "# Merge tables to add NOC column\n",
    "city_temp = pd.merge(left=city_temp, right=noc_data, left_on=\"Country\", right_on=\"region\")\n",
    "city_temp.head()"
   ]
  },
  {
   "cell_type": "code",
   "execution_count": 68,
   "metadata": {},
   "outputs": [
    {
     "output_type": "execute_result",
     "data": {
      "text/plain": "        region  NOC   City  Year Latitude Longitude  AverageTemperature\n0  Afghanistan  AFG  Kabul  1896    34.56     70.05           14.573750\n1  Afghanistan  AFG  Kabul  1897    34.56     70.05           13.692833\n2  Afghanistan  AFG  Kabul  1898    34.56     70.05           13.885833\n3  Afghanistan  AFG  Kabul  1899    34.56     70.05           14.690000\n4  Afghanistan  AFG  Kabul  1900    34.56     70.05           14.111417",
      "text/html": "<div>\n<style scoped>\n    .dataframe tbody tr th:only-of-type {\n        vertical-align: middle;\n    }\n\n    .dataframe tbody tr th {\n        vertical-align: top;\n    }\n\n    .dataframe thead th {\n        text-align: right;\n    }\n</style>\n<table border=\"1\" class=\"dataframe\">\n  <thead>\n    <tr style=\"text-align: right;\">\n      <th></th>\n      <th>region</th>\n      <th>NOC</th>\n      <th>City</th>\n      <th>Year</th>\n      <th>Latitude</th>\n      <th>Longitude</th>\n      <th>AverageTemperature</th>\n    </tr>\n  </thead>\n  <tbody>\n    <tr>\n      <th>0</th>\n      <td>Afghanistan</td>\n      <td>AFG</td>\n      <td>Kabul</td>\n      <td>1896</td>\n      <td>34.56</td>\n      <td>70.05</td>\n      <td>14.573750</td>\n    </tr>\n    <tr>\n      <th>1</th>\n      <td>Afghanistan</td>\n      <td>AFG</td>\n      <td>Kabul</td>\n      <td>1897</td>\n      <td>34.56</td>\n      <td>70.05</td>\n      <td>13.692833</td>\n    </tr>\n    <tr>\n      <th>2</th>\n      <td>Afghanistan</td>\n      <td>AFG</td>\n      <td>Kabul</td>\n      <td>1898</td>\n      <td>34.56</td>\n      <td>70.05</td>\n      <td>13.885833</td>\n    </tr>\n    <tr>\n      <th>3</th>\n      <td>Afghanistan</td>\n      <td>AFG</td>\n      <td>Kabul</td>\n      <td>1899</td>\n      <td>34.56</td>\n      <td>70.05</td>\n      <td>14.690000</td>\n    </tr>\n    <tr>\n      <th>4</th>\n      <td>Afghanistan</td>\n      <td>AFG</td>\n      <td>Kabul</td>\n      <td>1900</td>\n      <td>34.56</td>\n      <td>70.05</td>\n      <td>14.111417</td>\n    </tr>\n  </tbody>\n</table>\n</div>"
     },
     "metadata": {},
     "execution_count": 68
    }
   ],
   "source": [
    "# Groupby City, Year, Latitude, Longitude\n",
    "# Determine mean of Temp\n",
    "city_temp = city_temp.groupby(['region','NOC','City', 'Year', 'Latitude', 'Longitude'])\n",
    "city_temp = city_temp['AverageTemperature'].mean()\n",
    "city_temp = city_temp.reset_index()\n",
    "city_temp.head()"
   ]
  },
  {
   "cell_type": "code",
   "execution_count": 69,
   "metadata": {},
   "outputs": [
    {
     "output_type": "execute_result",
     "data": {
      "text/plain": "        region  NOC   City  Year Latitude Longitude  AverageTemperature\n0  Afghanistan  AFG  Kabul  1896    34.56     70.05           14.573750\n1  Afghanistan  AFG  Kabul  1897    34.56     70.05           13.692833\n2  Afghanistan  AFG  Kabul  1898    34.56     70.05           13.885833\n3  Afghanistan  AFG  Kabul  1899    34.56     70.05           14.690000\n4  Afghanistan  AFG  Kabul  1900    34.56     70.05           14.111417",
      "text/html": "<div>\n<style scoped>\n    .dataframe tbody tr th:only-of-type {\n        vertical-align: middle;\n    }\n\n    .dataframe tbody tr th {\n        vertical-align: top;\n    }\n\n    .dataframe thead th {\n        text-align: right;\n    }\n</style>\n<table border=\"1\" class=\"dataframe\">\n  <thead>\n    <tr style=\"text-align: right;\">\n      <th></th>\n      <th>region</th>\n      <th>NOC</th>\n      <th>City</th>\n      <th>Year</th>\n      <th>Latitude</th>\n      <th>Longitude</th>\n      <th>AverageTemperature</th>\n    </tr>\n  </thead>\n  <tbody>\n    <tr>\n      <th>0</th>\n      <td>Afghanistan</td>\n      <td>AFG</td>\n      <td>Kabul</td>\n      <td>1896</td>\n      <td>34.56</td>\n      <td>70.05</td>\n      <td>14.573750</td>\n    </tr>\n    <tr>\n      <th>1</th>\n      <td>Afghanistan</td>\n      <td>AFG</td>\n      <td>Kabul</td>\n      <td>1897</td>\n      <td>34.56</td>\n      <td>70.05</td>\n      <td>13.692833</td>\n    </tr>\n    <tr>\n      <th>2</th>\n      <td>Afghanistan</td>\n      <td>AFG</td>\n      <td>Kabul</td>\n      <td>1898</td>\n      <td>34.56</td>\n      <td>70.05</td>\n      <td>13.885833</td>\n    </tr>\n    <tr>\n      <th>3</th>\n      <td>Afghanistan</td>\n      <td>AFG</td>\n      <td>Kabul</td>\n      <td>1899</td>\n      <td>34.56</td>\n      <td>70.05</td>\n      <td>14.690000</td>\n    </tr>\n    <tr>\n      <th>4</th>\n      <td>Afghanistan</td>\n      <td>AFG</td>\n      <td>Kabul</td>\n      <td>1900</td>\n      <td>34.56</td>\n      <td>70.05</td>\n      <td>14.111417</td>\n    </tr>\n  </tbody>\n</table>\n</div>"
     },
     "metadata": {},
     "execution_count": 69
    }
   ],
   "source": [
    "# create clean dataframe\n",
    "city_temp.reset_index(drop=True)\n",
    "city_temp = pd.DataFrame(city_temp)\n",
    "city_temp.head()"
   ]
  },
  {
   "cell_type": "code",
   "execution_count": 70,
   "metadata": {},
   "outputs": [
    {
     "output_type": "execute_result",
     "data": {
      "text/plain": "             NOC   City  Year Latitude Longitude  AverageTemperature\nregion                                                              \nAfghanistan  AFG  Kabul  1896    34.56     70.05           14.573750\nAfghanistan  AFG  Kabul  1897    34.56     70.05           13.692833\nAfghanistan  AFG  Kabul  1898    34.56     70.05           13.885833\nAfghanistan  AFG  Kabul  1899    34.56     70.05           14.690000\nAfghanistan  AFG  Kabul  1900    34.56     70.05           14.111417",
      "text/html": "<div>\n<style scoped>\n    .dataframe tbody tr th:only-of-type {\n        vertical-align: middle;\n    }\n\n    .dataframe tbody tr th {\n        vertical-align: top;\n    }\n\n    .dataframe thead th {\n        text-align: right;\n    }\n</style>\n<table border=\"1\" class=\"dataframe\">\n  <thead>\n    <tr style=\"text-align: right;\">\n      <th></th>\n      <th>NOC</th>\n      <th>City</th>\n      <th>Year</th>\n      <th>Latitude</th>\n      <th>Longitude</th>\n      <th>AverageTemperature</th>\n    </tr>\n    <tr>\n      <th>region</th>\n      <th></th>\n      <th></th>\n      <th></th>\n      <th></th>\n      <th></th>\n      <th></th>\n    </tr>\n  </thead>\n  <tbody>\n    <tr>\n      <th>Afghanistan</th>\n      <td>AFG</td>\n      <td>Kabul</td>\n      <td>1896</td>\n      <td>34.56</td>\n      <td>70.05</td>\n      <td>14.573750</td>\n    </tr>\n    <tr>\n      <th>Afghanistan</th>\n      <td>AFG</td>\n      <td>Kabul</td>\n      <td>1897</td>\n      <td>34.56</td>\n      <td>70.05</td>\n      <td>13.692833</td>\n    </tr>\n    <tr>\n      <th>Afghanistan</th>\n      <td>AFG</td>\n      <td>Kabul</td>\n      <td>1898</td>\n      <td>34.56</td>\n      <td>70.05</td>\n      <td>13.885833</td>\n    </tr>\n    <tr>\n      <th>Afghanistan</th>\n      <td>AFG</td>\n      <td>Kabul</td>\n      <td>1899</td>\n      <td>34.56</td>\n      <td>70.05</td>\n      <td>14.690000</td>\n    </tr>\n    <tr>\n      <th>Afghanistan</th>\n      <td>AFG</td>\n      <td>Kabul</td>\n      <td>1900</td>\n      <td>34.56</td>\n      <td>70.05</td>\n      <td>14.111417</td>\n    </tr>\n  </tbody>\n</table>\n</div>"
     },
     "metadata": {},
     "execution_count": 70
    }
   ],
   "source": [
    "# index final dataframe\n",
    "city_temp = city_temp.set_index('region')\n",
    "city_temp.head()"
   ]
  },
  {
   "cell_type": "code",
   "execution_count": 71,
   "metadata": {},
   "outputs": [],
   "source": [
    "# Save to CSV\n",
    "city_temp.to_csv('../csv_data/city_temperature_data.csv')"
   ]
  },
  {
   "cell_type": "code",
   "execution_count": 72,
   "metadata": {},
   "outputs": [
    {
     "output_type": "execute_result",
     "data": {
      "text/plain": "             NOC\nregion          \nAfghanistan  AFG\nCuracao      AHO\nAlbania      ALB\nAlgeria      ALG\nAndorra      AND",
      "text/html": "<div>\n<style scoped>\n    .dataframe tbody tr th:only-of-type {\n        vertical-align: middle;\n    }\n\n    .dataframe tbody tr th {\n        vertical-align: top;\n    }\n\n    .dataframe thead th {\n        text-align: right;\n    }\n</style>\n<table border=\"1\" class=\"dataframe\">\n  <thead>\n    <tr style=\"text-align: right;\">\n      <th></th>\n      <th>NOC</th>\n    </tr>\n    <tr>\n      <th>region</th>\n      <th></th>\n    </tr>\n  </thead>\n  <tbody>\n    <tr>\n      <th>Afghanistan</th>\n      <td>AFG</td>\n    </tr>\n    <tr>\n      <th>Curacao</th>\n      <td>AHO</td>\n    </tr>\n    <tr>\n      <th>Albania</th>\n      <td>ALB</td>\n    </tr>\n    <tr>\n      <th>Algeria</th>\n      <td>ALG</td>\n    </tr>\n    <tr>\n      <th>Andorra</th>\n      <td>AND</td>\n    </tr>\n  </tbody>\n</table>\n</div>"
     },
     "metadata": {},
     "execution_count": 72
    }
   ],
   "source": [
    "# index final clean noc data\n",
    "noc_data_clean = noc_data.set_index('region')\n",
    "noc_data_clean.head()"
   ]
  },
  {
   "cell_type": "code",
   "execution_count": 73,
   "metadata": {},
   "outputs": [],
   "source": [
    "# Save to CSV\n",
    "noc_data_clean.to_csv('../csv_data/noc_regions_data.csv')"
   ]
  },
  {
   "cell_type": "markdown",
   "metadata": {},
   "source": [
    "## Countrey medals continued"
   ]
  },
  {
   "cell_type": "code",
   "execution_count": 74,
   "metadata": {},
   "outputs": [
    {
     "output_type": "execute_result",
     "data": {
      "text/plain": "   NOC     region_x  Bronze  Silver  Gold     region_y\n0  AFG  Afghanistan       2       0     0  Afghanistan\n1  ALG      Algeria       8       2     5      Algeria\n2  ANZ    Australia       5       4    20    Australia\n3  ARG    Argentina      91      91    70    Argentina\n4  ARM      Armenia       9       2     1      Armenia",
      "text/html": "<div>\n<style scoped>\n    .dataframe tbody tr th:only-of-type {\n        vertical-align: middle;\n    }\n\n    .dataframe tbody tr th {\n        vertical-align: top;\n    }\n\n    .dataframe thead th {\n        text-align: right;\n    }\n</style>\n<table border=\"1\" class=\"dataframe\">\n  <thead>\n    <tr style=\"text-align: right;\">\n      <th></th>\n      <th>NOC</th>\n      <th>region_x</th>\n      <th>Bronze</th>\n      <th>Silver</th>\n      <th>Gold</th>\n      <th>region_y</th>\n    </tr>\n  </thead>\n  <tbody>\n    <tr>\n      <th>0</th>\n      <td>AFG</td>\n      <td>Afghanistan</td>\n      <td>2</td>\n      <td>0</td>\n      <td>0</td>\n      <td>Afghanistan</td>\n    </tr>\n    <tr>\n      <th>1</th>\n      <td>ALG</td>\n      <td>Algeria</td>\n      <td>8</td>\n      <td>2</td>\n      <td>5</td>\n      <td>Algeria</td>\n    </tr>\n    <tr>\n      <th>2</th>\n      <td>ANZ</td>\n      <td>Australia</td>\n      <td>5</td>\n      <td>4</td>\n      <td>20</td>\n      <td>Australia</td>\n    </tr>\n    <tr>\n      <th>3</th>\n      <td>ARG</td>\n      <td>Argentina</td>\n      <td>91</td>\n      <td>91</td>\n      <td>70</td>\n      <td>Argentina</td>\n    </tr>\n    <tr>\n      <th>4</th>\n      <td>ARM</td>\n      <td>Armenia</td>\n      <td>9</td>\n      <td>2</td>\n      <td>1</td>\n      <td>Armenia</td>\n    </tr>\n  </tbody>\n</table>\n</div>"
     },
     "metadata": {},
     "execution_count": 74
    }
   ],
   "source": [
    "# country medal data and adding region to the table\n",
    "country_medal_data = pd.merge(left=country_medal_data, right=noc_data, left_on=\"NOC\", right_on=\"NOC\")\n",
    "country_medal_data.head()"
   ]
  },
  {
   "cell_type": "code",
   "execution_count": 75,
   "metadata": {},
   "outputs": [
    {
     "output_type": "execute_result",
     "data": {
      "text/plain": "        region  NOC  Bronze  Silver  Gold\n0  Afghanistan  AFG       2       0     0\n1      Algeria  ALG       8       2     5\n2    Australia  ANZ       5       4    20\n3    Argentina  ARG      91      91    70\n4      Armenia  ARM       9       2     1",
      "text/html": "<div>\n<style scoped>\n    .dataframe tbody tr th:only-of-type {\n        vertical-align: middle;\n    }\n\n    .dataframe tbody tr th {\n        vertical-align: top;\n    }\n\n    .dataframe thead th {\n        text-align: right;\n    }\n</style>\n<table border=\"1\" class=\"dataframe\">\n  <thead>\n    <tr style=\"text-align: right;\">\n      <th></th>\n      <th>region</th>\n      <th>NOC</th>\n      <th>Bronze</th>\n      <th>Silver</th>\n      <th>Gold</th>\n    </tr>\n  </thead>\n  <tbody>\n    <tr>\n      <th>0</th>\n      <td>Afghanistan</td>\n      <td>AFG</td>\n      <td>2</td>\n      <td>0</td>\n      <td>0</td>\n    </tr>\n    <tr>\n      <th>1</th>\n      <td>Algeria</td>\n      <td>ALG</td>\n      <td>8</td>\n      <td>2</td>\n      <td>5</td>\n    </tr>\n    <tr>\n      <th>2</th>\n      <td>Australia</td>\n      <td>ANZ</td>\n      <td>5</td>\n      <td>4</td>\n      <td>20</td>\n    </tr>\n    <tr>\n      <th>3</th>\n      <td>Argentina</td>\n      <td>ARG</td>\n      <td>91</td>\n      <td>91</td>\n      <td>70</td>\n    </tr>\n    <tr>\n      <th>4</th>\n      <td>Armenia</td>\n      <td>ARM</td>\n      <td>9</td>\n      <td>2</td>\n      <td>1</td>\n    </tr>\n  </tbody>\n</table>\n</div>"
     },
     "metadata": {},
     "execution_count": 75
    }
   ],
   "source": [
    "# Reorder columns\n",
    "country_medal_data = country_medal_data.rename(columns={'region_y': 'region'})\n",
    "column_names = ['region', 'NOC', 'Bronze', 'Silver', 'Gold']\n",
    "country_medal_data = country_medal_data.reindex(columns=column_names)\n",
    "country_medal_data.head()"
   ]
  },
  {
   "cell_type": "code",
   "execution_count": 76,
   "metadata": {},
   "outputs": [
    {
     "output_type": "execute_result",
     "data": {
      "text/plain": "          region  Bronze  Silver  Gold\nNOC                                   \nAFG  Afghanistan       2       0     0\nALG      Algeria       8       2     5\nANZ    Australia       5       4    20\nARG    Argentina      91      91    70\nARM      Armenia       9       2     1",
      "text/html": "<div>\n<style scoped>\n    .dataframe tbody tr th:only-of-type {\n        vertical-align: middle;\n    }\n\n    .dataframe tbody tr th {\n        vertical-align: top;\n    }\n\n    .dataframe thead th {\n        text-align: right;\n    }\n</style>\n<table border=\"1\" class=\"dataframe\">\n  <thead>\n    <tr style=\"text-align: right;\">\n      <th></th>\n      <th>region</th>\n      <th>Bronze</th>\n      <th>Silver</th>\n      <th>Gold</th>\n    </tr>\n    <tr>\n      <th>NOC</th>\n      <th></th>\n      <th></th>\n      <th></th>\n      <th></th>\n    </tr>\n  </thead>\n  <tbody>\n    <tr>\n      <th>AFG</th>\n      <td>Afghanistan</td>\n      <td>2</td>\n      <td>0</td>\n      <td>0</td>\n    </tr>\n    <tr>\n      <th>ALG</th>\n      <td>Algeria</td>\n      <td>8</td>\n      <td>2</td>\n      <td>5</td>\n    </tr>\n    <tr>\n      <th>ANZ</th>\n      <td>Australia</td>\n      <td>5</td>\n      <td>4</td>\n      <td>20</td>\n    </tr>\n    <tr>\n      <th>ARG</th>\n      <td>Argentina</td>\n      <td>91</td>\n      <td>91</td>\n      <td>70</td>\n    </tr>\n    <tr>\n      <th>ARM</th>\n      <td>Armenia</td>\n      <td>9</td>\n      <td>2</td>\n      <td>1</td>\n    </tr>\n  </tbody>\n</table>\n</div>"
     },
     "metadata": {},
     "execution_count": 76
    }
   ],
   "source": [
    "# index clean dataframe\n",
    "country_medal_data = country_medal_data.set_index('NOC')\n",
    "country_medal_data.head()"
   ]
  },
  {
   "cell_type": "code",
   "execution_count": 77,
   "metadata": {},
   "outputs": [],
   "source": [
    "# Save to CSV\n",
    "country_medal_data.to_csv('../csv_data/country_medal_data.csv')\n"
   ]
  },
  {
   "cell_type": "code",
   "execution_count": 78,
   "metadata": {},
   "outputs": [],
   "source": [
    "# import dependencies\n",
    "from sqlalchemy import create_engine\n",
    "import sqlalchemy\n",
    "from sqlalchemy.ext.automap import automap_base\n",
    "from sqlalchemy.orm import Session\n",
    "import psycopg2\n",
    "import pandas as pd\n",
    "from passwords import password"
   ]
  },
  {
   "cell_type": "code",
   "execution_count": 91,
   "metadata": {
    "tags": []
   },
   "outputs": [
    {
     "output_type": "stream",
     "name": "stdout",
     "text": "PostgreSQL Table noc_regions has been created successfully.\n"
    }
   ],
   "source": [
    "# noc data to Postgres\n",
    "# Create an engine instance\n",
    "alchemyEngine   = create_engine('postgresql+psycopg2://postgres:' + password + '@cwrubootcamp.c6sjh58vwb2z.us-east-2.rds.amazonaws.com/postgres', pool_recycle=3600)\n",
    "\n",
    "# Connect to PostgreSQL server\n",
    "postgreSQLConnection = alchemyEngine.connect()\n",
    "postgreSQLTable = \"noc_regions\"\n",
    "\n",
    "try:\n",
    "\n",
    "    frame = noc_data_clean.to_sql(postgreSQLTable, postgreSQLConnection, if_exists='fail')\n",
    "\n",
    "except ValueError as vx:\n",
    "\n",
    "    print(vx)\n",
    "\n",
    "except Exception as ex:  \n",
    "\n",
    "    print(ex)\n",
    "\n",
    "else:\n",
    "\n",
    "    print(\"PostgreSQL Table %s has been created successfully.\"%postgreSQLTable)\n",
    "\n",
    "finally:\n",
    "\n",
    "    postgreSQLConnection.close()"
   ]
  },
  {
   "cell_type": "code",
   "execution_count": 93,
   "metadata": {
    "tags": []
   },
   "outputs": [
    {
     "output_type": "stream",
     "name": "stdout",
     "text": "PostgreSQL Table country_medals has been created successfully.\n"
    }
   ],
   "source": [
    "# country medal data to Postgres\n",
    "# Create an engine instance\n",
    "alchemyEngine   = create_engine('postgresql+psycopg2://postgres:' + password + '@cwrubootcamp.c6sjh58vwb2z.us-east-2.rds.amazonaws.com/postgres', pool_recycle=3600)\n",
    "\n",
    "# Connect to PostgreSQL server\n",
    "postgreSQLConnection = alchemyEngine.connect()\n",
    "postgreSQLTable = \"country_medals\"\n",
    "\n",
    "try:\n",
    "\n",
    "    frame = country_medal_data.to_sql(postgreSQLTable, postgreSQLConnection, if_exists='fail')\n",
    "\n",
    "except ValueError as vx:\n",
    "\n",
    "    print(vx)\n",
    "\n",
    "except Exception as ex:  \n",
    "\n",
    "    print(ex)\n",
    "\n",
    "else:\n",
    "\n",
    "    print(\"PostgreSQL Table %s has been created successfully.\"%postgreSQLTable)\n",
    "\n",
    "finally:\n",
    "\n",
    "    postgreSQLConnection.close()"
   ]
  },
  {
   "cell_type": "code",
   "execution_count": 99,
   "metadata": {
    "tags": []
   },
   "outputs": [
    {
     "output_type": "stream",
     "name": "stdout",
     "text": "PostgreSQL Table country_average_temperature has been created successfully.\n"
    }
   ],
   "source": [
    "# country temperature to Postgres\n",
    "# Create an engine instance\n",
    "alchemyEngine   = create_engine('postgresql+psycopg2://postgres:' + password + '@cwrubootcamp.c6sjh58vwb2z.us-east-2.rds.amazonaws.com/postgres', pool_recycle=3600)\n",
    "\n",
    "# Connect to PostgreSQL server\n",
    "postgreSQLConnection = alchemyEngine.connect()\n",
    "postgreSQLTable = \"country_average_temperature\"\n",
    "\n",
    "try:\n",
    "\n",
    "    frame = country_temp_final.to_sql(postgreSQLTable, postgreSQLConnection, if_exists='append')\n",
    "\n",
    "except ValueError as vx:\n",
    "\n",
    "    print(vx)\n",
    "\n",
    "except Exception as ex:  \n",
    "\n",
    "    print(ex)\n",
    "\n",
    "else:\n",
    "\n",
    "    print(\"PostgreSQL Table %s has been created successfully.\"%postgreSQLTable)\n",
    "\n",
    "finally:\n",
    "\n",
    "    postgreSQLConnection.close()"
   ]
  },
  {
   "cell_type": "code",
   "execution_count": 92,
   "metadata": {
    "tags": []
   },
   "outputs": [
    {
     "output_type": "stream",
     "name": "stdout",
     "text": "PostgreSQL Table city_average_temperature has been created successfully.\n"
    }
   ],
   "source": [
    "# city temperature to Postgres\n",
    "# Create an engine instance\n",
    "alchemyEngine   = create_engine('postgresql+psycopg2://postgres:' + password + '@cwrubootcamp.c6sjh58vwb2z.us-east-2.rds.amazonaws.com/postgres', pool_recycle=3600)\n",
    "\n",
    "# Connect to PostgreSQL server\n",
    "postgreSQLConnection = alchemyEngine.connect()\n",
    "postgreSQLTable = \"city_average_temperature\"\n",
    "\n",
    "try:\n",
    "\n",
    "    frame = city_temp.to_sql(postgreSQLTable, postgreSQLConnection, if_exists='fail')\n",
    "\n",
    "except ValueError as vx:\n",
    "\n",
    "    print(vx)\n",
    "\n",
    "except Exception as ex:  \n",
    "\n",
    "    print(ex)\n",
    "\n",
    "else:\n",
    "\n",
    "    print(\"PostgreSQL Table %s has been created successfully.\"%postgreSQLTable)\n",
    "\n",
    "finally:\n",
    "\n",
    "    postgreSQLConnection.close()"
   ]
  },
  {
   "cell_type": "code",
   "execution_count": 94,
   "metadata": {
    "tags": []
   },
   "outputs": [
    {
     "output_type": "stream",
     "name": "stdout",
     "text": "PostgreSQL Table athlete_medals has been created successfully.\n"
    }
   ],
   "source": [
    "# athlete medal data to Postgres\n",
    "# Create an engine instance\n",
    "alchemyEngine   = create_engine('postgresql+psycopg2://postgres:' + password + '@cwrubootcamp.c6sjh58vwb2z.us-east-2.rds.amazonaws.com/postgres', pool_recycle=3600)\n",
    "\n",
    "# Connect to PostgreSQL server\n",
    "postgreSQLConnection = alchemyEngine.connect()\n",
    "postgreSQLTable = \"athlete_medals\"\n",
    "\n",
    "try:\n",
    "\n",
    "    frame = medal_data_clean.to_sql(postgreSQLTable, postgreSQLConnection, if_exists='fail')\n",
    "\n",
    "except ValueError as vx:\n",
    "\n",
    "    print(vx)\n",
    "\n",
    "except Exception as ex:  \n",
    "\n",
    "    print(ex)\n",
    "\n",
    "else:\n",
    "\n",
    "    print(\"PostgreSQL Table %s has been created successfully.\"%postgreSQLTable)\n",
    "\n",
    "finally:\n",
    "\n",
    "    postgreSQLConnection.close()"
   ]
  },
  {
   "cell_type": "code",
   "execution_count": null,
   "metadata": {},
   "outputs": [],
   "source": []
  }
 ],
 "metadata": {
  "language_info": {
   "codemirror_mode": {
    "name": "ipython",
    "version": 3
   },
   "file_extension": ".py",
   "mimetype": "text/x-python",
   "name": "python",
   "nbconvert_exporter": "python",
   "pygments_lexer": "ipython3",
   "version": "3.8.5-final"
  },
  "orig_nbformat": 2,
  "kernelspec": {
   "name": "python_defaultSpec_1607096819667",
   "display_name": "Python 3.8.5 64-bit ('PythonData': conda)"
  }
 },
 "nbformat": 4,
 "nbformat_minor": 2
}