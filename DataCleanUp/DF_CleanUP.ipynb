{
 "cells": [
  {
   "cell_type": "code",
   "execution_count": 72,
   "metadata": {},
   "outputs": [],
   "source": [
    "# Dependencies\n",
    "import pandas as pd\n",
    "import numpy as np"
   ]
  },
  {
   "cell_type": "code",
   "execution_count": 73,
   "metadata": {},
   "outputs": [
    {
     "output_type": "execute_result",
     "data": {
      "text/plain": "   ID                      Name Sex   Age  Height  Weight            Team  \\\n0   1                 A Dijiang   M  24.0   180.0    80.0           China   \n1   2                  A Lamusi   M  23.0   170.0    60.0           China   \n2   3       Gunnar Nielsen Aaby   M  24.0     NaN     NaN         Denmark   \n3   4      Edgar Lindenau Aabye   M  34.0     NaN     NaN  Denmark/Sweden   \n4   5  Christine Jacoba Aaftink   F  21.0   185.0    82.0     Netherlands   \n\n   NOC        Games  Year  Season       City          Sport  \\\n0  CHN  1992 Summer  1992  Summer  Barcelona     Basketball   \n1  CHN  2012 Summer  2012  Summer     London           Judo   \n2  DEN  1920 Summer  1920  Summer  Antwerpen       Football   \n3  DEN  1900 Summer  1900  Summer      Paris     Tug-Of-War   \n4  NED  1988 Winter  1988  Winter    Calgary  Speed Skating   \n\n                              Event Medal  \n0       Basketball Men's Basketball   NaN  \n1      Judo Men's Extra-Lightweight   NaN  \n2           Football Men's Football   NaN  \n3       Tug-Of-War Men's Tug-Of-War  Gold  \n4  Speed Skating Women's 500 metres   NaN  ",
      "text/html": "<div>\n<style scoped>\n    .dataframe tbody tr th:only-of-type {\n        vertical-align: middle;\n    }\n\n    .dataframe tbody tr th {\n        vertical-align: top;\n    }\n\n    .dataframe thead th {\n        text-align: right;\n    }\n</style>\n<table border=\"1\" class=\"dataframe\">\n  <thead>\n    <tr style=\"text-align: right;\">\n      <th></th>\n      <th>ID</th>\n      <th>Name</th>\n      <th>Sex</th>\n      <th>Age</th>\n      <th>Height</th>\n      <th>Weight</th>\n      <th>Team</th>\n      <th>NOC</th>\n      <th>Games</th>\n      <th>Year</th>\n      <th>Season</th>\n      <th>City</th>\n      <th>Sport</th>\n      <th>Event</th>\n      <th>Medal</th>\n    </tr>\n  </thead>\n  <tbody>\n    <tr>\n      <th>0</th>\n      <td>1</td>\n      <td>A Dijiang</td>\n      <td>M</td>\n      <td>24.0</td>\n      <td>180.0</td>\n      <td>80.0</td>\n      <td>China</td>\n      <td>CHN</td>\n      <td>1992 Summer</td>\n      <td>1992</td>\n      <td>Summer</td>\n      <td>Barcelona</td>\n      <td>Basketball</td>\n      <td>Basketball Men's Basketball</td>\n      <td>NaN</td>\n    </tr>\n    <tr>\n      <th>1</th>\n      <td>2</td>\n      <td>A Lamusi</td>\n      <td>M</td>\n      <td>23.0</td>\n      <td>170.0</td>\n      <td>60.0</td>\n      <td>China</td>\n      <td>CHN</td>\n      <td>2012 Summer</td>\n      <td>2012</td>\n      <td>Summer</td>\n      <td>London</td>\n      <td>Judo</td>\n      <td>Judo Men's Extra-Lightweight</td>\n      <td>NaN</td>\n    </tr>\n    <tr>\n      <th>2</th>\n      <td>3</td>\n      <td>Gunnar Nielsen Aaby</td>\n      <td>M</td>\n      <td>24.0</td>\n      <td>NaN</td>\n      <td>NaN</td>\n      <td>Denmark</td>\n      <td>DEN</td>\n      <td>1920 Summer</td>\n      <td>1920</td>\n      <td>Summer</td>\n      <td>Antwerpen</td>\n      <td>Football</td>\n      <td>Football Men's Football</td>\n      <td>NaN</td>\n    </tr>\n    <tr>\n      <th>3</th>\n      <td>4</td>\n      <td>Edgar Lindenau Aabye</td>\n      <td>M</td>\n      <td>34.0</td>\n      <td>NaN</td>\n      <td>NaN</td>\n      <td>Denmark/Sweden</td>\n      <td>DEN</td>\n      <td>1900 Summer</td>\n      <td>1900</td>\n      <td>Summer</td>\n      <td>Paris</td>\n      <td>Tug-Of-War</td>\n      <td>Tug-Of-War Men's Tug-Of-War</td>\n      <td>Gold</td>\n    </tr>\n    <tr>\n      <th>4</th>\n      <td>5</td>\n      <td>Christine Jacoba Aaftink</td>\n      <td>F</td>\n      <td>21.0</td>\n      <td>185.0</td>\n      <td>82.0</td>\n      <td>Netherlands</td>\n      <td>NED</td>\n      <td>1988 Winter</td>\n      <td>1988</td>\n      <td>Winter</td>\n      <td>Calgary</td>\n      <td>Speed Skating</td>\n      <td>Speed Skating Women's 500 metres</td>\n      <td>NaN</td>\n    </tr>\n  </tbody>\n</table>\n</div>"
     },
     "metadata": {},
     "execution_count": 73
    }
   ],
   "source": [
    "# Load and read in AtheleteEvents\n",
    "data_load1 = \"../csv_data/athlete_events.csv\"\n",
    "athelte_data = pd.read_csv(data_load1)\n",
    "athelte_data.head()"
   ]
  },
  {
   "cell_type": "code",
   "execution_count": 74,
   "metadata": {},
   "outputs": [
    {
     "output_type": "execute_result",
     "data": {
      "text/plain": "  Sex            Team  NOC        Games  Year  Season       City  \\\n0   M           China  CHN  1992 Summer  1992  Summer  Barcelona   \n1   M           China  CHN  2012 Summer  2012  Summer     London   \n2   M         Denmark  DEN  1920 Summer  1920  Summer  Antwerpen   \n3   M  Denmark/Sweden  DEN  1900 Summer  1900  Summer      Paris   \n4   F     Netherlands  NED  1988 Winter  1988  Winter    Calgary   \n\n           Sport Medal  \n0     Basketball   NaN  \n1           Judo   NaN  \n2       Football   NaN  \n3     Tug-Of-War  Gold  \n4  Speed Skating   NaN  ",
      "text/html": "<div>\n<style scoped>\n    .dataframe tbody tr th:only-of-type {\n        vertical-align: middle;\n    }\n\n    .dataframe tbody tr th {\n        vertical-align: top;\n    }\n\n    .dataframe thead th {\n        text-align: right;\n    }\n</style>\n<table border=\"1\" class=\"dataframe\">\n  <thead>\n    <tr style=\"text-align: right;\">\n      <th></th>\n      <th>Sex</th>\n      <th>Team</th>\n      <th>NOC</th>\n      <th>Games</th>\n      <th>Year</th>\n      <th>Season</th>\n      <th>City</th>\n      <th>Sport</th>\n      <th>Medal</th>\n    </tr>\n  </thead>\n  <tbody>\n    <tr>\n      <th>0</th>\n      <td>M</td>\n      <td>China</td>\n      <td>CHN</td>\n      <td>1992 Summer</td>\n      <td>1992</td>\n      <td>Summer</td>\n      <td>Barcelona</td>\n      <td>Basketball</td>\n      <td>NaN</td>\n    </tr>\n    <tr>\n      <th>1</th>\n      <td>M</td>\n      <td>China</td>\n      <td>CHN</td>\n      <td>2012 Summer</td>\n      <td>2012</td>\n      <td>Summer</td>\n      <td>London</td>\n      <td>Judo</td>\n      <td>NaN</td>\n    </tr>\n    <tr>\n      <th>2</th>\n      <td>M</td>\n      <td>Denmark</td>\n      <td>DEN</td>\n      <td>1920 Summer</td>\n      <td>1920</td>\n      <td>Summer</td>\n      <td>Antwerpen</td>\n      <td>Football</td>\n      <td>NaN</td>\n    </tr>\n    <tr>\n      <th>3</th>\n      <td>M</td>\n      <td>Denmark/Sweden</td>\n      <td>DEN</td>\n      <td>1900 Summer</td>\n      <td>1900</td>\n      <td>Summer</td>\n      <td>Paris</td>\n      <td>Tug-Of-War</td>\n      <td>Gold</td>\n    </tr>\n    <tr>\n      <th>4</th>\n      <td>F</td>\n      <td>Netherlands</td>\n      <td>NED</td>\n      <td>1988 Winter</td>\n      <td>1988</td>\n      <td>Winter</td>\n      <td>Calgary</td>\n      <td>Speed Skating</td>\n      <td>NaN</td>\n    </tr>\n  </tbody>\n</table>\n</div>"
     },
     "metadata": {},
     "execution_count": 74
    }
   ],
   "source": [
    "# Select desired columns\n",
    "medal_data = pd.DataFrame(athelte_data, columns=['Sex', 'Team', 'NOC', 'Games', 'Year', 'Season', 'City', 'Sport', 'Medal'])\n",
    "medal_data.head()"
   ]
  },
  {
   "cell_type": "code",
   "execution_count": 75,
   "metadata": {},
   "outputs": [
    {
     "output_type": "execute_result",
     "data": {
      "text/plain": "   Sex            Team  NOC        Games  Year  Season       City       Sport  \\\n3    M  Denmark/Sweden  DEN  1900 Summer  1900  Summer      Paris  Tug-Of-War   \n37   M         Finland  FIN  1920 Summer  1920  Summer  Antwerpen    Swimming   \n38   M         Finland  FIN  1920 Summer  1920  Summer  Antwerpen    Swimming   \n40   M         Finland  FIN  2014 Winter  2014  Winter      Sochi  Ice Hockey   \n41   M         Finland  FIN  1948 Summer  1948  Summer     London  Gymnastics   \n\n     Medal  \n3     Gold  \n37  Bronze  \n38  Bronze  \n40  Bronze  \n41  Bronze  ",
      "text/html": "<div>\n<style scoped>\n    .dataframe tbody tr th:only-of-type {\n        vertical-align: middle;\n    }\n\n    .dataframe tbody tr th {\n        vertical-align: top;\n    }\n\n    .dataframe thead th {\n        text-align: right;\n    }\n</style>\n<table border=\"1\" class=\"dataframe\">\n  <thead>\n    <tr style=\"text-align: right;\">\n      <th></th>\n      <th>Sex</th>\n      <th>Team</th>\n      <th>NOC</th>\n      <th>Games</th>\n      <th>Year</th>\n      <th>Season</th>\n      <th>City</th>\n      <th>Sport</th>\n      <th>Medal</th>\n    </tr>\n  </thead>\n  <tbody>\n    <tr>\n      <th>3</th>\n      <td>M</td>\n      <td>Denmark/Sweden</td>\n      <td>DEN</td>\n      <td>1900 Summer</td>\n      <td>1900</td>\n      <td>Summer</td>\n      <td>Paris</td>\n      <td>Tug-Of-War</td>\n      <td>Gold</td>\n    </tr>\n    <tr>\n      <th>37</th>\n      <td>M</td>\n      <td>Finland</td>\n      <td>FIN</td>\n      <td>1920 Summer</td>\n      <td>1920</td>\n      <td>Summer</td>\n      <td>Antwerpen</td>\n      <td>Swimming</td>\n      <td>Bronze</td>\n    </tr>\n    <tr>\n      <th>38</th>\n      <td>M</td>\n      <td>Finland</td>\n      <td>FIN</td>\n      <td>1920 Summer</td>\n      <td>1920</td>\n      <td>Summer</td>\n      <td>Antwerpen</td>\n      <td>Swimming</td>\n      <td>Bronze</td>\n    </tr>\n    <tr>\n      <th>40</th>\n      <td>M</td>\n      <td>Finland</td>\n      <td>FIN</td>\n      <td>2014 Winter</td>\n      <td>2014</td>\n      <td>Winter</td>\n      <td>Sochi</td>\n      <td>Ice Hockey</td>\n      <td>Bronze</td>\n    </tr>\n    <tr>\n      <th>41</th>\n      <td>M</td>\n      <td>Finland</td>\n      <td>FIN</td>\n      <td>1948 Summer</td>\n      <td>1948</td>\n      <td>Summer</td>\n      <td>London</td>\n      <td>Gymnastics</td>\n      <td>Bronze</td>\n    </tr>\n  </tbody>\n</table>\n</div>"
     },
     "metadata": {},
     "execution_count": 75
    }
   ],
   "source": [
    "# Drop NA medals\n",
    "medal_data = medal_data.dropna(subset= ['Medal'])\n",
    "medal_data.head()"
   ]
  },
  {
   "cell_type": "code",
   "execution_count": 76,
   "metadata": {
    "tags": []
   },
   "outputs": [
    {
     "output_type": "execute_result",
     "data": {
      "text/plain": "     Bronze\nNOC        \nAFG       2\nALG       8\nANZ       5\nARG      91\nARM       9",
      "text/html": "<div>\n<style scoped>\n    .dataframe tbody tr th:only-of-type {\n        vertical-align: middle;\n    }\n\n    .dataframe tbody tr th {\n        vertical-align: top;\n    }\n\n    .dataframe thead th {\n        text-align: right;\n    }\n</style>\n<table border=\"1\" class=\"dataframe\">\n  <thead>\n    <tr style=\"text-align: right;\">\n      <th></th>\n      <th>Bronze</th>\n    </tr>\n    <tr>\n      <th>NOC</th>\n      <th></th>\n    </tr>\n  </thead>\n  <tbody>\n    <tr>\n      <th>AFG</th>\n      <td>2</td>\n    </tr>\n    <tr>\n      <th>ALG</th>\n      <td>8</td>\n    </tr>\n    <tr>\n      <th>ANZ</th>\n      <td>5</td>\n    </tr>\n    <tr>\n      <th>ARG</th>\n      <td>91</td>\n    </tr>\n    <tr>\n      <th>ARM</th>\n      <td>9</td>\n    </tr>\n  </tbody>\n</table>\n</div>"
     },
     "metadata": {},
     "execution_count": 76
    }
   ],
   "source": [
    "# Bronze medals\n",
    "bronze_df = medal_data.loc[medal_data[\"Medal\"] == \"Bronze\"]\n",
    "country_b = bronze_df.groupby(\"NOC\")\n",
    "country_b = country_b['Medal'].count()\n",
    "bronze_medals = pd.DataFrame(country_b)\n",
    "bronze_medals = bronze_medals.rename(columns={'Medal': 'Bronze'})\n",
    "bronze_medals.head()\n"
   ]
  },
  {
   "cell_type": "code",
   "execution_count": 77,
   "metadata": {},
   "outputs": [
    {
     "output_type": "execute_result",
     "data": {
      "text/plain": "     Silver\nNOC        \nAHO       1\nALG       4\nANZ       4\nARG      92\nARM       5",
      "text/html": "<div>\n<style scoped>\n    .dataframe tbody tr th:only-of-type {\n        vertical-align: middle;\n    }\n\n    .dataframe tbody tr th {\n        vertical-align: top;\n    }\n\n    .dataframe thead th {\n        text-align: right;\n    }\n</style>\n<table border=\"1\" class=\"dataframe\">\n  <thead>\n    <tr style=\"text-align: right;\">\n      <th></th>\n      <th>Silver</th>\n    </tr>\n    <tr>\n      <th>NOC</th>\n      <th></th>\n    </tr>\n  </thead>\n  <tbody>\n    <tr>\n      <th>AHO</th>\n      <td>1</td>\n    </tr>\n    <tr>\n      <th>ALG</th>\n      <td>4</td>\n    </tr>\n    <tr>\n      <th>ANZ</th>\n      <td>4</td>\n    </tr>\n    <tr>\n      <th>ARG</th>\n      <td>92</td>\n    </tr>\n    <tr>\n      <th>ARM</th>\n      <td>5</td>\n    </tr>\n  </tbody>\n</table>\n</div>"
     },
     "metadata": {},
     "execution_count": 77
    }
   ],
   "source": [
    "# Silver medals\n",
    "silver_df = medal_data.loc[medal_data[\"Medal\"] == \"Silver\"]\n",
    "country_s = silver_df.groupby(\"NOC\")\n",
    "country_s = country_s['Medal'].count()\n",
    "silver_medals = pd.DataFrame(country_s)\n",
    "silver_medals = silver_medals.rename(columns={'Medal': 'Silver'})\n",
    "silver_medals.head()\n"
   ]
  },
  {
   "cell_type": "code",
   "execution_count": 78,
   "metadata": {},
   "outputs": [
    {
     "output_type": "execute_result",
     "data": {
      "text/plain": "     Gold\nNOC      \nALG     5\nANZ    20\nARG    91\nARM     2\nAUS   348",
      "text/html": "<div>\n<style scoped>\n    .dataframe tbody tr th:only-of-type {\n        vertical-align: middle;\n    }\n\n    .dataframe tbody tr th {\n        vertical-align: top;\n    }\n\n    .dataframe thead th {\n        text-align: right;\n    }\n</style>\n<table border=\"1\" class=\"dataframe\">\n  <thead>\n    <tr style=\"text-align: right;\">\n      <th></th>\n      <th>Gold</th>\n    </tr>\n    <tr>\n      <th>NOC</th>\n      <th></th>\n    </tr>\n  </thead>\n  <tbody>\n    <tr>\n      <th>ALG</th>\n      <td>5</td>\n    </tr>\n    <tr>\n      <th>ANZ</th>\n      <td>20</td>\n    </tr>\n    <tr>\n      <th>ARG</th>\n      <td>91</td>\n    </tr>\n    <tr>\n      <th>ARM</th>\n      <td>2</td>\n    </tr>\n    <tr>\n      <th>AUS</th>\n      <td>348</td>\n    </tr>\n  </tbody>\n</table>\n</div>"
     },
     "metadata": {},
     "execution_count": 78
    }
   ],
   "source": [
    "# Gold medals\n",
    "gold_df = medal_data.loc[medal_data[\"Medal\"] == \"Gold\"]\n",
    "country_g = gold_df.groupby(\"NOC\")\n",
    "country_g = country_g['Medal'].count()\n",
    "gold_medals = pd.DataFrame(country_g)\n",
    "gold_medals = gold_medals.rename(columns={'Medal': 'Gold'})\n",
    "gold_medals.head()\n"
   ]
  },
  {
   "cell_type": "code",
   "execution_count": 79,
   "metadata": {},
   "outputs": [
    {
     "output_type": "execute_result",
     "data": {
      "text/plain": "     Bronze  Silver  Gold\nNOC                      \nAFG       2       0     0\nALG       8       4     5\nANZ       5       4    20\nARG      91      92    91\nARM       9       5     2",
      "text/html": "<div>\n<style scoped>\n    .dataframe tbody tr th:only-of-type {\n        vertical-align: middle;\n    }\n\n    .dataframe tbody tr th {\n        vertical-align: top;\n    }\n\n    .dataframe thead th {\n        text-align: right;\n    }\n</style>\n<table border=\"1\" class=\"dataframe\">\n  <thead>\n    <tr style=\"text-align: right;\">\n      <th></th>\n      <th>Bronze</th>\n      <th>Silver</th>\n      <th>Gold</th>\n    </tr>\n    <tr>\n      <th>NOC</th>\n      <th></th>\n      <th></th>\n      <th></th>\n    </tr>\n  </thead>\n  <tbody>\n    <tr>\n      <th>AFG</th>\n      <td>2</td>\n      <td>0</td>\n      <td>0</td>\n    </tr>\n    <tr>\n      <th>ALG</th>\n      <td>8</td>\n      <td>4</td>\n      <td>5</td>\n    </tr>\n    <tr>\n      <th>ANZ</th>\n      <td>5</td>\n      <td>4</td>\n      <td>20</td>\n    </tr>\n    <tr>\n      <th>ARG</th>\n      <td>91</td>\n      <td>92</td>\n      <td>91</td>\n    </tr>\n    <tr>\n      <th>ARM</th>\n      <td>9</td>\n      <td>5</td>\n      <td>2</td>\n    </tr>\n  </tbody>\n</table>\n</div>"
     },
     "metadata": {},
     "execution_count": 79
    }
   ],
   "source": [
    "bronze_silver_merge = bronze_medals.join(silver_medals)\n",
    "country_medal_data = bronze_silver_merge.join(gold_medals)\n",
    "country_medal_data = country_medal_data.fillna(0)\n",
    "country_medal_data = country_medal_data.astype(int)\n",
    "country_medal_data.head()"
   ]
  },
  {
   "cell_type": "code",
   "execution_count": 80,
   "metadata": {},
   "outputs": [],
   "source": [
    "# Save to CSV\n",
    "country_medal_data.to_csv('../csv_data/country_medal_data.csv')\n",
    "\n",
    "medal_data.to_csv('../csv_data/athlete_medal_data.csv')"
   ]
  }
 ],
 "metadata": {
  "language_info": {
   "codemirror_mode": {
    "name": "ipython",
    "version": 3
   },
   "file_extension": ".py",
   "mimetype": "text/x-python",
   "name": "python",
   "nbconvert_exporter": "python",
   "pygments_lexer": "ipython3",
   "version": "3.8.5-final"
  },
  "orig_nbformat": 2,
  "kernelspec": {
   "name": "python_defaultSpec_1605981647729",
   "display_name": "Python 3.8.5 64-bit ('PythonData': conda)"
  }
 },
 "nbformat": 4,
 "nbformat_minor": 2
}